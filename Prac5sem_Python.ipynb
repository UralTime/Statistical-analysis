{
  "nbformat": 4,
  "nbformat_minor": 0,
  "metadata": {
    "colab": {
      "provenance": []
    },
    "kernelspec": {
      "name": "python3",
      "display_name": "Python 3"
    },
    "language_info": {
      "name": "python"
    }
  },
  "cells": [
    {
      "cell_type": "markdown",
      "source": [
        "**Проанализируем данные игроков в известном футбольном симуляторе - FIFA 23. По сути сравниваются показатели игроков за всю историю футбола.**\n",
        "\n",
        "Источник - https://www.kaggle.com/datasets/mohammedessam97/fifa-23-fut-players-dataset?resource=download (Data of All players in Ultimate team mode in FIFA 23 including Football Legends)"
      ],
      "metadata": {
        "id": "tkBTL3KcTSYJ"
      }
    },
    {
      "cell_type": "code",
      "source": [
        "import numpy as np \n",
        "import pandas as pd\n",
        "import matplotlib.pyplot as plt\n",
        "import seaborn as sns\n",
        "import plotly.express as px\n",
        "import scipy\n",
        "from scipy import stats"
      ],
      "metadata": {
        "id": "PjQ_f-gWQl7S"
      },
      "execution_count": null,
      "outputs": []
    },
    {
      "cell_type": "code",
      "source": [
        "data = pd.read_csv('../content/Fifa 23 Fut Players.csv')\n",
        "data[\"Player\"] = data[[\"Name\", \"Version\"]].apply(\"-\".join, axis=1)\n",
        "\n",
        "ratings = data.copy()\n",
        "fifa = data.copy()\n",
        "df = data.copy()"
      ],
      "metadata": {
        "id": "3HmI0Qd2QgQa"
      },
      "execution_count": null,
      "outputs": []
    },
    {
      "cell_type": "code",
      "source": [
        "def value_to_float(x): ##переведём стоимости в игре в числа, то есть уберём десятичные приставки К и М\n",
        "    if type(x) == float or type(x) == int:\n",
        "        return x\n",
        "    if 'K' in x:\n",
        "        if len(x) > 1:\n",
        "            return float(x.replace('K', '')) * 1000\n",
        "        return 1000.0\n",
        "    if 'M' in x:\n",
        "        if len(x) > 1:\n",
        "            return float(x.replace('M', '')) * 1000000\n",
        "        return 1000000.0\n",
        "    if 'B' in x:\n",
        "        return float(x.replace('B', '')) * 1000000000\n",
        "    return 0.0\n",
        "\n",
        "data['PS'] = data['PS'].apply(value_to_float)\n",
        "\n",
        "data.head(10)"
      ],
      "metadata": {
        "colab": {
          "base_uri": "https://localhost:8080/",
          "height": 392
        },
        "id": "r5d3hHurW8tP",
        "outputId": "b49ab77b-e4df-4008-904e-6a3debde724c"
      },
      "execution_count": null,
      "outputs": [
        {
          "output_type": "execute_result",
          "data": {
            "text/plain": [
              "              Name  Ratings    Position           Version         PS  SKI  WF  \\\n",
              "0             Pelé       98         CAM   Icon  Explosive        0.0    5   4   \n",
              "1          Ronaldo       96          ST  Icon  Controlled        0.0    5   5   \n",
              "2  Zinedine Zidane       96         CAM  Icon  Controlled        0.0    5   5   \n",
              "3             Pelé       95  CF  CAM,ST   Icon  Explosive  4200000.0    5   4   \n",
              "4    Ferenc Puskás       94          CF  Icon  Controlled        0.0    4   3   \n",
              "5     Johan Cruyff       94          CF   Icon  Explosive        0.0    5   5   \n",
              "6       Lev Yashin       94          GK  Icon  Controlled        0.0    1   3   \n",
              "7   Mané Garrincha       94          RW   Icon  Explosive        0.0    5   4   \n",
              "8    Paolo Maldini       94          CB     Icon  Lengthy        0.0    2   4   \n",
              "9       Ronaldinho       94          LW  Icon  Controlled        0.0    5   4   \n",
              "\n",
              "      WR  PAC  SHO  ...  DEF  PHY                                 Body  \\\n",
              "0  H \\ M   95   96  ...   60   76          173cm | 5'8\"  Unique (70kg)   \n",
              "1  M \\ M   97   95  ...   45   76              183cm | 6'0\"  R9 (78kg)   \n",
              "2  M \\ M   85   92  ...   75   86         185cm | 6'1\"  Average (77kg)   \n",
              "3  H \\ M   96   93  ...   56   75          173cm | 5'8\"  Unique (69kg)   \n",
              "4  H \\ M   91   96  ...   46   76          172cm | 5'8\"  Stocky (72kg)   \n",
              "5  H \\ L   91   92  ...   42   73           180cm | 5'11\"  Lean (71kg)   \n",
              "6  M \\ M   95   89  ...   60   95  189cm | 6'2\"  High & Average (82kg)   \n",
              "7  M \\ L   90   87  ...   41   68   169cm | 5'7\"  Short & Lean- (72kg)   \n",
              "8  M \\ H   86   56  ...   96   83         186cm | 6'1\"  Average (83kg)   \n",
              "9  H \\ L   92   90  ...   37   81     180cm | 5'11\"  Ronaldinho (78kg)   \n",
              "\n",
              "   Popularity   BS   IGS          Club League      Country  \\\n",
              "0        1790  516  2513  FUT 22 ICONS  Icons       Brazil   \n",
              "1        2765  489  2341  FUT 22 ICONS  Icons       Brazil   \n",
              "2        1031  529  2548  FUT 22 ICONS  Icons       France   \n",
              "3        1277  505  2452  FUT 22 ICONS  Icons       Brazil   \n",
              "4        1710  492  2396  FUT 22 ICONS  Icons      Hungary   \n",
              "5        1575  483  2339  FUT 22 ICONS  Icons  Netherlands   \n",
              "6         724  510  1320  FUT 22 ICONS  Icons       Russia   \n",
              "7         765  476  2301  FUT 22 ICONS  Icons       Brazil   \n",
              "8         933  465  2140  FUT 22 ICONS  Icons        Italy   \n",
              "9        1802  486  2328  FUT 22 ICONS  Icons       Brazil   \n",
              "\n",
              "                             Player  \n",
              "0              Pelé-Icon  Explosive  \n",
              "1          Ronaldo-Icon  Controlled  \n",
              "2  Zinedine Zidane-Icon  Controlled  \n",
              "3              Pelé-Icon  Explosive  \n",
              "4    Ferenc Puskás-Icon  Controlled  \n",
              "5      Johan Cruyff-Icon  Explosive  \n",
              "6       Lev Yashin-Icon  Controlled  \n",
              "7    Mané Garrincha-Icon  Explosive  \n",
              "8       Paolo Maldini-Icon  Lengthy  \n",
              "9       Ronaldinho-Icon  Controlled  \n",
              "\n",
              "[10 rows x 22 columns]"
            ],
            "text/html": [
              "\n",
              "  <div id=\"df-6c1ed824-9a21-4339-a2b8-82367a5b83db\">\n",
              "    <div class=\"colab-df-container\">\n",
              "      <div>\n",
              "<style scoped>\n",
              "    .dataframe tbody tr th:only-of-type {\n",
              "        vertical-align: middle;\n",
              "    }\n",
              "\n",
              "    .dataframe tbody tr th {\n",
              "        vertical-align: top;\n",
              "    }\n",
              "\n",
              "    .dataframe thead th {\n",
              "        text-align: right;\n",
              "    }\n",
              "</style>\n",
              "<table border=\"1\" class=\"dataframe\">\n",
              "  <thead>\n",
              "    <tr style=\"text-align: right;\">\n",
              "      <th></th>\n",
              "      <th>Name</th>\n",
              "      <th>Ratings</th>\n",
              "      <th>Position</th>\n",
              "      <th>Version</th>\n",
              "      <th>PS</th>\n",
              "      <th>SKI</th>\n",
              "      <th>WF</th>\n",
              "      <th>WR</th>\n",
              "      <th>PAC</th>\n",
              "      <th>SHO</th>\n",
              "      <th>...</th>\n",
              "      <th>DEF</th>\n",
              "      <th>PHY</th>\n",
              "      <th>Body</th>\n",
              "      <th>Popularity</th>\n",
              "      <th>BS</th>\n",
              "      <th>IGS</th>\n",
              "      <th>Club</th>\n",
              "      <th>League</th>\n",
              "      <th>Country</th>\n",
              "      <th>Player</th>\n",
              "    </tr>\n",
              "  </thead>\n",
              "  <tbody>\n",
              "    <tr>\n",
              "      <th>0</th>\n",
              "      <td>Pelé</td>\n",
              "      <td>98</td>\n",
              "      <td>CAM</td>\n",
              "      <td>Icon  Explosive</td>\n",
              "      <td>0.0</td>\n",
              "      <td>5</td>\n",
              "      <td>4</td>\n",
              "      <td>H \\ M</td>\n",
              "      <td>95</td>\n",
              "      <td>96</td>\n",
              "      <td>...</td>\n",
              "      <td>60</td>\n",
              "      <td>76</td>\n",
              "      <td>173cm | 5'8\"  Unique (70kg)</td>\n",
              "      <td>1790</td>\n",
              "      <td>516</td>\n",
              "      <td>2513</td>\n",
              "      <td>FUT 22 ICONS</td>\n",
              "      <td>Icons</td>\n",
              "      <td>Brazil</td>\n",
              "      <td>Pelé-Icon  Explosive</td>\n",
              "    </tr>\n",
              "    <tr>\n",
              "      <th>1</th>\n",
              "      <td>Ronaldo</td>\n",
              "      <td>96</td>\n",
              "      <td>ST</td>\n",
              "      <td>Icon  Controlled</td>\n",
              "      <td>0.0</td>\n",
              "      <td>5</td>\n",
              "      <td>5</td>\n",
              "      <td>M \\ M</td>\n",
              "      <td>97</td>\n",
              "      <td>95</td>\n",
              "      <td>...</td>\n",
              "      <td>45</td>\n",
              "      <td>76</td>\n",
              "      <td>183cm | 6'0\"  R9 (78kg)</td>\n",
              "      <td>2765</td>\n",
              "      <td>489</td>\n",
              "      <td>2341</td>\n",
              "      <td>FUT 22 ICONS</td>\n",
              "      <td>Icons</td>\n",
              "      <td>Brazil</td>\n",
              "      <td>Ronaldo-Icon  Controlled</td>\n",
              "    </tr>\n",
              "    <tr>\n",
              "      <th>2</th>\n",
              "      <td>Zinedine Zidane</td>\n",
              "      <td>96</td>\n",
              "      <td>CAM</td>\n",
              "      <td>Icon  Controlled</td>\n",
              "      <td>0.0</td>\n",
              "      <td>5</td>\n",
              "      <td>5</td>\n",
              "      <td>M \\ M</td>\n",
              "      <td>85</td>\n",
              "      <td>92</td>\n",
              "      <td>...</td>\n",
              "      <td>75</td>\n",
              "      <td>86</td>\n",
              "      <td>185cm | 6'1\"  Average (77kg)</td>\n",
              "      <td>1031</td>\n",
              "      <td>529</td>\n",
              "      <td>2548</td>\n",
              "      <td>FUT 22 ICONS</td>\n",
              "      <td>Icons</td>\n",
              "      <td>France</td>\n",
              "      <td>Zinedine Zidane-Icon  Controlled</td>\n",
              "    </tr>\n",
              "    <tr>\n",
              "      <th>3</th>\n",
              "      <td>Pelé</td>\n",
              "      <td>95</td>\n",
              "      <td>CF  CAM,ST</td>\n",
              "      <td>Icon  Explosive</td>\n",
              "      <td>4200000.0</td>\n",
              "      <td>5</td>\n",
              "      <td>4</td>\n",
              "      <td>H \\ M</td>\n",
              "      <td>96</td>\n",
              "      <td>93</td>\n",
              "      <td>...</td>\n",
              "      <td>56</td>\n",
              "      <td>75</td>\n",
              "      <td>173cm | 5'8\"  Unique (69kg)</td>\n",
              "      <td>1277</td>\n",
              "      <td>505</td>\n",
              "      <td>2452</td>\n",
              "      <td>FUT 22 ICONS</td>\n",
              "      <td>Icons</td>\n",
              "      <td>Brazil</td>\n",
              "      <td>Pelé-Icon  Explosive</td>\n",
              "    </tr>\n",
              "    <tr>\n",
              "      <th>4</th>\n",
              "      <td>Ferenc Puskás</td>\n",
              "      <td>94</td>\n",
              "      <td>CF</td>\n",
              "      <td>Icon  Controlled</td>\n",
              "      <td>0.0</td>\n",
              "      <td>4</td>\n",
              "      <td>3</td>\n",
              "      <td>H \\ M</td>\n",
              "      <td>91</td>\n",
              "      <td>96</td>\n",
              "      <td>...</td>\n",
              "      <td>46</td>\n",
              "      <td>76</td>\n",
              "      <td>172cm | 5'8\"  Stocky (72kg)</td>\n",
              "      <td>1710</td>\n",
              "      <td>492</td>\n",
              "      <td>2396</td>\n",
              "      <td>FUT 22 ICONS</td>\n",
              "      <td>Icons</td>\n",
              "      <td>Hungary</td>\n",
              "      <td>Ferenc Puskás-Icon  Controlled</td>\n",
              "    </tr>\n",
              "    <tr>\n",
              "      <th>5</th>\n",
              "      <td>Johan Cruyff</td>\n",
              "      <td>94</td>\n",
              "      <td>CF</td>\n",
              "      <td>Icon  Explosive</td>\n",
              "      <td>0.0</td>\n",
              "      <td>5</td>\n",
              "      <td>5</td>\n",
              "      <td>H \\ L</td>\n",
              "      <td>91</td>\n",
              "      <td>92</td>\n",
              "      <td>...</td>\n",
              "      <td>42</td>\n",
              "      <td>73</td>\n",
              "      <td>180cm | 5'11\"  Lean (71kg)</td>\n",
              "      <td>1575</td>\n",
              "      <td>483</td>\n",
              "      <td>2339</td>\n",
              "      <td>FUT 22 ICONS</td>\n",
              "      <td>Icons</td>\n",
              "      <td>Netherlands</td>\n",
              "      <td>Johan Cruyff-Icon  Explosive</td>\n",
              "    </tr>\n",
              "    <tr>\n",
              "      <th>6</th>\n",
              "      <td>Lev Yashin</td>\n",
              "      <td>94</td>\n",
              "      <td>GK</td>\n",
              "      <td>Icon  Controlled</td>\n",
              "      <td>0.0</td>\n",
              "      <td>1</td>\n",
              "      <td>3</td>\n",
              "      <td>M \\ M</td>\n",
              "      <td>95</td>\n",
              "      <td>89</td>\n",
              "      <td>...</td>\n",
              "      <td>60</td>\n",
              "      <td>95</td>\n",
              "      <td>189cm | 6'2\"  High &amp; Average (82kg)</td>\n",
              "      <td>724</td>\n",
              "      <td>510</td>\n",
              "      <td>1320</td>\n",
              "      <td>FUT 22 ICONS</td>\n",
              "      <td>Icons</td>\n",
              "      <td>Russia</td>\n",
              "      <td>Lev Yashin-Icon  Controlled</td>\n",
              "    </tr>\n",
              "    <tr>\n",
              "      <th>7</th>\n",
              "      <td>Mané Garrincha</td>\n",
              "      <td>94</td>\n",
              "      <td>RW</td>\n",
              "      <td>Icon  Explosive</td>\n",
              "      <td>0.0</td>\n",
              "      <td>5</td>\n",
              "      <td>4</td>\n",
              "      <td>M \\ L</td>\n",
              "      <td>90</td>\n",
              "      <td>87</td>\n",
              "      <td>...</td>\n",
              "      <td>41</td>\n",
              "      <td>68</td>\n",
              "      <td>169cm | 5'7\"  Short &amp; Lean- (72kg)</td>\n",
              "      <td>765</td>\n",
              "      <td>476</td>\n",
              "      <td>2301</td>\n",
              "      <td>FUT 22 ICONS</td>\n",
              "      <td>Icons</td>\n",
              "      <td>Brazil</td>\n",
              "      <td>Mané Garrincha-Icon  Explosive</td>\n",
              "    </tr>\n",
              "    <tr>\n",
              "      <th>8</th>\n",
              "      <td>Paolo Maldini</td>\n",
              "      <td>94</td>\n",
              "      <td>CB</td>\n",
              "      <td>Icon  Lengthy</td>\n",
              "      <td>0.0</td>\n",
              "      <td>2</td>\n",
              "      <td>4</td>\n",
              "      <td>M \\ H</td>\n",
              "      <td>86</td>\n",
              "      <td>56</td>\n",
              "      <td>...</td>\n",
              "      <td>96</td>\n",
              "      <td>83</td>\n",
              "      <td>186cm | 6'1\"  Average (83kg)</td>\n",
              "      <td>933</td>\n",
              "      <td>465</td>\n",
              "      <td>2140</td>\n",
              "      <td>FUT 22 ICONS</td>\n",
              "      <td>Icons</td>\n",
              "      <td>Italy</td>\n",
              "      <td>Paolo Maldini-Icon  Lengthy</td>\n",
              "    </tr>\n",
              "    <tr>\n",
              "      <th>9</th>\n",
              "      <td>Ronaldinho</td>\n",
              "      <td>94</td>\n",
              "      <td>LW</td>\n",
              "      <td>Icon  Controlled</td>\n",
              "      <td>0.0</td>\n",
              "      <td>5</td>\n",
              "      <td>4</td>\n",
              "      <td>H \\ L</td>\n",
              "      <td>92</td>\n",
              "      <td>90</td>\n",
              "      <td>...</td>\n",
              "      <td>37</td>\n",
              "      <td>81</td>\n",
              "      <td>180cm | 5'11\"  Ronaldinho (78kg)</td>\n",
              "      <td>1802</td>\n",
              "      <td>486</td>\n",
              "      <td>2328</td>\n",
              "      <td>FUT 22 ICONS</td>\n",
              "      <td>Icons</td>\n",
              "      <td>Brazil</td>\n",
              "      <td>Ronaldinho-Icon  Controlled</td>\n",
              "    </tr>\n",
              "  </tbody>\n",
              "</table>\n",
              "<p>10 rows × 22 columns</p>\n",
              "</div>\n",
              "      <button class=\"colab-df-convert\" onclick=\"convertToInteractive('df-6c1ed824-9a21-4339-a2b8-82367a5b83db')\"\n",
              "              title=\"Convert this dataframe to an interactive table.\"\n",
              "              style=\"display:none;\">\n",
              "        \n",
              "  <svg xmlns=\"http://www.w3.org/2000/svg\" height=\"24px\"viewBox=\"0 0 24 24\"\n",
              "       width=\"24px\">\n",
              "    <path d=\"M0 0h24v24H0V0z\" fill=\"none\"/>\n",
              "    <path d=\"M18.56 5.44l.94 2.06.94-2.06 2.06-.94-2.06-.94-.94-2.06-.94 2.06-2.06.94zm-11 1L8.5 8.5l.94-2.06 2.06-.94-2.06-.94L8.5 2.5l-.94 2.06-2.06.94zm10 10l.94 2.06.94-2.06 2.06-.94-2.06-.94-.94-2.06-.94 2.06-2.06.94z\"/><path d=\"M17.41 7.96l-1.37-1.37c-.4-.4-.92-.59-1.43-.59-.52 0-1.04.2-1.43.59L10.3 9.45l-7.72 7.72c-.78.78-.78 2.05 0 2.83L4 21.41c.39.39.9.59 1.41.59.51 0 1.02-.2 1.41-.59l7.78-7.78 2.81-2.81c.8-.78.8-2.07 0-2.86zM5.41 20L4 18.59l7.72-7.72 1.47 1.35L5.41 20z\"/>\n",
              "  </svg>\n",
              "      </button>\n",
              "      \n",
              "  <style>\n",
              "    .colab-df-container {\n",
              "      display:flex;\n",
              "      flex-wrap:wrap;\n",
              "      gap: 12px;\n",
              "    }\n",
              "\n",
              "    .colab-df-convert {\n",
              "      background-color: #E8F0FE;\n",
              "      border: none;\n",
              "      border-radius: 50%;\n",
              "      cursor: pointer;\n",
              "      display: none;\n",
              "      fill: #1967D2;\n",
              "      height: 32px;\n",
              "      padding: 0 0 0 0;\n",
              "      width: 32px;\n",
              "    }\n",
              "\n",
              "    .colab-df-convert:hover {\n",
              "      background-color: #E2EBFA;\n",
              "      box-shadow: 0px 1px 2px rgba(60, 64, 67, 0.3), 0px 1px 3px 1px rgba(60, 64, 67, 0.15);\n",
              "      fill: #174EA6;\n",
              "    }\n",
              "\n",
              "    [theme=dark] .colab-df-convert {\n",
              "      background-color: #3B4455;\n",
              "      fill: #D2E3FC;\n",
              "    }\n",
              "\n",
              "    [theme=dark] .colab-df-convert:hover {\n",
              "      background-color: #434B5C;\n",
              "      box-shadow: 0px 1px 3px 1px rgba(0, 0, 0, 0.15);\n",
              "      filter: drop-shadow(0px 1px 2px rgba(0, 0, 0, 0.3));\n",
              "      fill: #FFFFFF;\n",
              "    }\n",
              "  </style>\n",
              "\n",
              "      <script>\n",
              "        const buttonEl =\n",
              "          document.querySelector('#df-6c1ed824-9a21-4339-a2b8-82367a5b83db button.colab-df-convert');\n",
              "        buttonEl.style.display =\n",
              "          google.colab.kernel.accessAllowed ? 'block' : 'none';\n",
              "\n",
              "        async function convertToInteractive(key) {\n",
              "          const element = document.querySelector('#df-6c1ed824-9a21-4339-a2b8-82367a5b83db');\n",
              "          const dataTable =\n",
              "            await google.colab.kernel.invokeFunction('convertToInteractive',\n",
              "                                                     [key], {});\n",
              "          if (!dataTable) return;\n",
              "\n",
              "          const docLinkHtml = 'Like what you see? Visit the ' +\n",
              "            '<a target=\"_blank\" href=https://colab.research.google.com/notebooks/data_table.ipynb>data table notebook</a>'\n",
              "            + ' to learn more about interactive tables.';\n",
              "          element.innerHTML = '';\n",
              "          dataTable['output_type'] = 'display_data';\n",
              "          await google.colab.output.renderOutput(dataTable, element);\n",
              "          const docLink = document.createElement('div');\n",
              "          docLink.innerHTML = docLinkHtml;\n",
              "          element.appendChild(docLink);\n",
              "        }\n",
              "      </script>\n",
              "    </div>\n",
              "  </div>\n",
              "  "
            ]
          },
          "metadata": {},
          "execution_count": 237
        }
      ]
    },
    {
      "cell_type": "code",
      "source": [
        "df = df.sort_values(by='Ratings' , ascending=False).drop_duplicates(subset='Name').head(20)\n",
        "plt.figure(figsize=(15,5))\n",
        "sns.barplot( x=df['Name'] , y=df['Ratings'] , ci=None)\n",
        "plt.ylabel('Rating' , fontsize=19)\n",
        "plt.xlabel('Player Version' , fontsize=15)\n",
        "plt.title(\"Best Rating\" ,fontsize=19)\n",
        "plt.ylim(90,100)\n",
        "plt.xticks(rotation=40)\n",
        "plt.show()"
      ],
      "metadata": {
        "colab": {
          "base_uri": "https://localhost:8080/",
          "height": 424
        },
        "id": "cQFPrFLPQmD7",
        "outputId": "43bd4e82-0786-4ec6-ed4c-64609641b2ae"
      },
      "execution_count": null,
      "outputs": [
        {
          "output_type": "display_data",
          "data": {
            "text/plain": [
              "<Figure size 1080x360 with 1 Axes>"
            ],
            "image/png": "[encoded data removed]"
          },
          "metadata": {
            "needs_background": "light"
          }
        }
      ]
    },
    {
      "cell_type": "code",
      "source": [
        "df = data.copy()\n",
        "df = df.sort_values(by='PS' , ascending=False).drop_duplicates(subset='Name').head(10)\n",
        "plt.figure(figsize=(15,5))\n",
        "sns.barplot( x=df['Name'] , y=df['PS'] , ci=None)\n",
        "plt.ylabel('Market Value(in mil)' , fontsize=19)\n",
        "plt.xlabel('Player Version' , fontsize=15)\n",
        "plt.title(\"Highest Market Values\" ,fontsize=19)\n",
        "plt.xticks(rotation=40)\n",
        "plt.show()"
      ],
      "metadata": {
        "colab": {
          "base_uri": "https://localhost:8080/",
          "height": 410
        },
        "id": "Apn7VJ4K7hfx",
        "outputId": "2b24c5d7-b4b5-469c-f48b-22301fd7e738"
      },
      "execution_count": null,
      "outputs": [
        {
          "output_type": "display_data",
          "data": {
            "text/plain": [
              "<Figure size 1080x360 with 1 Axes>"
            ],
            "image/png": "[encoded data removed]"
          },
          "metadata": {
            "needs_background": "light"
          }
        }
      ]
    },
    {
      "cell_type": "markdown",
      "source": [
        "Например, можно посмотреть, у какой страны в фифе больше всего игроков входят в топ-1000 с лучшим рейтингом в игре"
      ],
      "metadata": {
        "id": "ytcV0fXfVGLw"
      }
    },
    {
      "cell_type": "code",
      "source": [
        "top1000 = data.sort_values(by='Ratings' , ascending=False).drop_duplicates(subset='Name').head(1000)\n",
        "res = top1000.groupby(['Country']).count().reset_index()"
      ],
      "metadata": {
        "id": "L7sYiGd0VHii"
      },
      "execution_count": null,
      "outputs": []
    },
    {
      "cell_type": "code",
      "source": [
        "fig = px.bar(res.sort_values(by=['Ratings'],ascending = False)[0:10], x='Country', y='Ratings',color = 'Ratings')\n",
        "fig.show()"
      ],
      "metadata": {
        "colab": {
          "base_uri": "https://localhost:8080/",
          "height": 542
        },
        "id": "TqELUjTmVL_7",
        "outputId": "f28f657a-3cc1-4faa-a610-769a178b1400"
      },
      "execution_count": null,
      "outputs": [
        {
          "output_type": "display_data",
          "data": {
            "text/html": [
              "<html>\n",
              "<head><meta charset=\"utf-8\" /></head>\n",
              "<body>\n",
              "    <div>            <script src=\"https://cdnjs.cloudflare.com/ajax/libs/mathjax/2.7.5/MathJax.js?config=TeX-AMS-MML_SVG\"></script><script type=\"text/javascript\">if (window.MathJax) {MathJax.Hub.Config({SVG: {font: \"STIX-Web\"}});}</script>                <script type=\"text/javascript\">window.PlotlyConfig = {MathJaxConfig: 'local'};</script>\n",
              "        <script src=\"https://cdn.plot.ly/plotly-2.8.3.min.js\"></script>                <div id=\"98d65070-8b0d-4373-b3c7-7210392ffe70\" class=\"plotly-graph-div\" style=\"height:525px; width:100%;\"></div>            <script type=\"text/javascript\">                                    window.PLOTLYENV=window.PLOTLYENV || {};                                    if (document.getElementById(\"98d65070-8b0d-4373-b3c7-7210392ffe70\")) {                    Plotly.newPlot(                        \"98d65070-8b0d-4373-b3c7-7210392ffe70\",                        [{\"alignmentgroup\":\"True\",\"hovertemplate\":\"Country=%{x}<br>Ratings=%{marker.color}<extra></extra>\",\"legendgroup\":\"\",\"marker\":{\"color\":[128,95,76,75,68,65,58,54,50,21],\"coloraxis\":\"coloraxis\",\"pattern\":{\"shape\":\"\"}},\"name\":\"\",\"offsetgroup\":\"\",\"orientation\":\"v\",\"showlegend\":false,\"textposition\":\"auto\",\"x\":[\"Spain\",\"France\",\"Brazil\",\"England\",\"Italy\",\"Germany\",\"Argentina\",\"Portugal\",\"Netherlands\",\"Belgium\"],\"xaxis\":\"x\",\"y\":[128,95,76,75,68,65,58,54,50,21],\"yaxis\":\"y\",\"type\":\"bar\"}],                        {\"template\":{\"data\":{\"bar\":[{\"error_x\":{\"color\":\"#2a3f5f\"},\"error_y\":{\"color\":\"#2a3f5f\"},\"marker\":{\"line\":{\"color\":\"#E5ECF6\",\"width\":0.5},\"pattern\":{\"fillmode\":\"overlay\",\"size\":10,\"solidity\":0.2}},\"type\":\"bar\"}],\"barpolar\":[{\"marker\":{\"line\":{\"color\":\"#E5ECF6\",\"width\":0.5},\"pattern\":{\"fillmode\":\"overlay\",\"size\":10,\"solidity\":0.2}},\"type\":\"barpolar\"}],\"carpet\":[{\"aaxis\":{\"endlinecolor\":\"#2a3f5f\",\"gridcolor\":\"white\",\"linecolor\":\"white\",\"minorgridcolor\":\"white\",\"startlinecolor\":\"#2a3f5f\"},\"baxis\":{\"endlinecolor\":\"#2a3f5f\",\"gridcolor\":\"white\",\"linecolor\":\"white\",\"minorgridcolor\":\"white\",\"startlinecolor\":\"#2a3f5f\"},\"type\":\"carpet\"}],\"choropleth\":[{\"colorbar\":{\"outlinewidth\":0,\"ticks\":\"\"},\"type\":\"choropleth\"}],\"contour\":[{\"colorbar\":{\"outlinewidth\":0,\"ticks\":\"\"},\"colorscale\":[[0.0,\"#0d0887\"],[0.1111111111111111,\"#46039f\"],[0.2222222222222222,\"#7201a8\"],[0.3333333333333333,\"#9c179e\"],[0.4444444444444444,\"#bd3786\"],[0.5555555555555556,\"#d8576b\"],[0.6666666666666666,\"#ed7953\"],[0.7777777777777778,\"#fb9f3a\"],[0.8888888888888888,\"#fdca26\"],[1.0,\"#f0f921\"]],\"type\":\"contour\"}],\"contourcarpet\":[{\"colorbar\":{\"outlinewidth\":0,\"ticks\":\"\"},\"type\":\"contourcarpet\"}],\"heatmap\":[{\"colorbar\":{\"outlinewidth\":0,\"ticks\":\"\"},\"colorscale\":[[0.0,\"#0d0887\"],[0.1111111111111111,\"#46039f\"],[0.2222222222222222,\"#7201a8\"],[0.3333333333333333,\"#9c179e\"],[0.4444444444444444,\"#bd3786\"],[0.5555555555555556,\"#d8576b\"],[0.6666666666666666,\"#ed7953\"],[0.7777777777777778,\"#fb9f3a\"],[0.8888888888888888,\"#fdca26\"],[1.0,\"#f0f921\"]],\"type\":\"heatmap\"}],\"heatmapgl\":[{\"colorbar\":{\"outlinewidth\":0,\"ticks\":\"\"},\"colorscale\":[[0.0,\"#0d0887\"],[0.1111111111111111,\"#46039f\"],[0.2222222222222222,\"#7201a8\"],[0.3333333333333333,\"#9c179e\"],[0.4444444444444444,\"#bd3786\"],[0.5555555555555556,\"#d8576b\"],[0.6666666666666666,\"#ed7953\"],[0.7777777777777778,\"#fb9f3a\"],[0.8888888888888888,\"#fdca26\"],[1.0,\"#f0f921\"]],\"type\":\"heatmapgl\"}],\"histogram\":[{\"marker\":{\"pattern\":{\"fillmode\":\"overlay\",\"size\":10,\"solidity\":0.2}},\"type\":\"histogram\"}],\"histogram2d\":[{\"colorbar\":{\"outlinewidth\":0,\"ticks\":\"\"},\"colorscale\":[[0.0,\"#0d0887\"],[0.1111111111111111,\"#46039f\"],[0.2222222222222222,\"#7201a8\"],[0.3333333333333333,\"#9c179e\"],[0.4444444444444444,\"#bd3786\"],[0.5555555555555556,\"#d8576b\"],[0.6666666666666666,\"#ed7953\"],[0.7777777777777778,\"#fb9f3a\"],[0.8888888888888888,\"#fdca26\"],[1.0,\"#f0f921\"]],\"type\":\"histogram2d\"}],\"histogram2dcontour\":[{\"colorbar\":{\"outlinewidth\":0,\"ticks\":\"\"},\"colorscale\":[[0.0,\"#0d0887\"],[0.1111111111111111,\"#46039f\"],[0.2222222222222222,\"#7201a8\"],[0.3333333333333333,\"#9c179e\"],[0.4444444444444444,\"#bd3786\"],[0.5555555555555556,\"#d8576b\"],[0.6666666666666666,\"#ed7953\"],[0.7777777777777778,\"#fb9f3a\"],[0.8888888888888888,\"#fdca26\"],[1.0,\"#f0f921\"]],\"type\":\"histogram2dcontour\"}],\"mesh3d\":[{\"colorbar\":{\"outlinewidth\":0,\"ticks\":\"\"},\"type\":\"mesh3d\"}],\"parcoords\":[{\"line\":{\"colorbar\":{\"outlinewidth\":0,\"ticks\":\"\"}},\"type\":\"parcoords\"}],\"pie\":[{\"automargin\":true,\"type\":\"pie\"}],\"scatter\":[{\"marker\":{\"colorbar\":{\"outlinewidth\":0,\"ticks\":\"\"}},\"type\":\"scatter\"}],\"scatter3d\":[{\"line\":{\"colorbar\":{\"outlinewidth\":0,\"ticks\":\"\"}},\"marker\":{\"colorbar\":{\"outlinewidth\":0,\"ticks\":\"\"}},\"type\":\"scatter3d\"}],\"scattercarpet\":[{\"marker\":{\"colorbar\":{\"outlinewidth\":0,\"ticks\":\"\"}},\"type\":\"scattercarpet\"}],\"scattergeo\":[{\"marker\":{\"colorbar\":{\"outlinewidth\":0,\"ticks\":\"\"}},\"type\":\"scattergeo\"}],\"scattergl\":[{\"marker\":{\"colorbar\":{\"outlinewidth\":0,\"ticks\":\"\"}},\"type\":\"scattergl\"}],\"scattermapbox\":[{\"marker\":{\"colorbar\":{\"outlinewidth\":0,\"ticks\":\"\"}},\"type\":\"scattermapbox\"}],\"scatterpolar\":[{\"marker\":{\"colorbar\":{\"outlinewidth\":0,\"ticks\":\"\"}},\"type\":\"scatterpolar\"}],\"scatterpolargl\":[{\"marker\":{\"colorbar\":{\"outlinewidth\":0,\"ticks\":\"\"}},\"type\":\"scatterpolargl\"}],\"scatterternary\":[{\"marker\":{\"colorbar\":{\"outlinewidth\":0,\"ticks\":\"\"}},\"type\":\"scatterternary\"}],\"surface\":[{\"colorbar\":{\"outlinewidth\":0,\"ticks\":\"\"},\"colorscale\":[[0.0,\"#0d0887\"],[0.1111111111111111,\"#46039f\"],[0.2222222222222222,\"#7201a8\"],[0.3333333333333333,\"#9c179e\"],[0.4444444444444444,\"#bd3786\"],[0.5555555555555556,\"#d8576b\"],[0.6666666666666666,\"#ed7953\"],[0.7777777777777778,\"#fb9f3a\"],[0.8888888888888888,\"#fdca26\"],[1.0,\"#f0f921\"]],\"type\":\"surface\"}],\"table\":[{\"cells\":{\"fill\":{\"color\":\"#EBF0F8\"},\"line\":{\"color\":\"white\"}},\"header\":{\"fill\":{\"color\":\"#C8D4E3\"},\"line\":{\"color\":\"white\"}},\"type\":\"table\"}]},\"layout\":{\"annotationdefaults\":{\"arrowcolor\":\"#2a3f5f\",\"arrowhead\":0,\"arrowwidth\":1},\"autotypenumbers\":\"strict\",\"coloraxis\":{\"colorbar\":{\"outlinewidth\":0,\"ticks\":\"\"}},\"colorscale\":{\"diverging\":[[0,\"#8e0152\"],[0.1,\"#c51b7d\"],[0.2,\"#de77ae\"],[0.3,\"#f1b6da\"],[0.4,\"#fde0ef\"],[0.5,\"#f7f7f7\"],[0.6,\"#e6f5d0\"],[0.7,\"#b8e186\"],[0.8,\"#7fbc41\"],[0.9,\"#4d9221\"],[1,\"#276419\"]],\"sequential\":[[0.0,\"#0d0887\"],[0.1111111111111111,\"#46039f\"],[0.2222222222222222,\"#7201a8\"],[0.3333333333333333,\"#9c179e\"],[0.4444444444444444,\"#bd3786\"],[0.5555555555555556,\"#d8576b\"],[0.6666666666666666,\"#ed7953\"],[0.7777777777777778,\"#fb9f3a\"],[0.8888888888888888,\"#fdca26\"],[1.0,\"#f0f921\"]],\"sequentialminus\":[[0.0,\"#0d0887\"],[0.1111111111111111,\"#46039f\"],[0.2222222222222222,\"#7201a8\"],[0.3333333333333333,\"#9c179e\"],[0.4444444444444444,\"#bd3786\"],[0.5555555555555556,\"#d8576b\"],[0.6666666666666666,\"#ed7953\"],[0.7777777777777778,\"#fb9f3a\"],[0.8888888888888888,\"#fdca26\"],[1.0,\"#f0f921\"]]},\"colorway\":[\"#636efa\",\"#EF553B\",\"#00cc96\",\"#ab63fa\",\"#FFA15A\",\"#19d3f3\",\"#FF6692\",\"#B6E880\",\"#FF97FF\",\"#FECB52\"],\"font\":{\"color\":\"#2a3f5f\"},\"geo\":{\"bgcolor\":\"white\",\"lakecolor\":\"white\",\"landcolor\":\"#E5ECF6\",\"showlakes\":true,\"showland\":true,\"subunitcolor\":\"white\"},\"hoverlabel\":{\"align\":\"left\"},\"hovermode\":\"closest\",\"mapbox\":{\"style\":\"light\"},\"paper_bgcolor\":\"white\",\"plot_bgcolor\":\"#E5ECF6\",\"polar\":{\"angularaxis\":{\"gridcolor\":\"white\",\"linecolor\":\"white\",\"ticks\":\"\"},\"bgcolor\":\"#E5ECF6\",\"radialaxis\":{\"gridcolor\":\"white\",\"linecolor\":\"white\",\"ticks\":\"\"}},\"scene\":{\"xaxis\":{\"backgroundcolor\":\"#E5ECF6\",\"gridcolor\":\"white\",\"gridwidth\":2,\"linecolor\":\"white\",\"showbackground\":true,\"ticks\":\"\",\"zerolinecolor\":\"white\"},\"yaxis\":{\"backgroundcolor\":\"#E5ECF6\",\"gridcolor\":\"white\",\"gridwidth\":2,\"linecolor\":\"white\",\"showbackground\":true,\"ticks\":\"\",\"zerolinecolor\":\"white\"},\"zaxis\":{\"backgroundcolor\":\"#E5ECF6\",\"gridcolor\":\"white\",\"gridwidth\":2,\"linecolor\":\"white\",\"showbackground\":true,\"ticks\":\"\",\"zerolinecolor\":\"white\"}},\"shapedefaults\":{\"line\":{\"color\":\"#2a3f5f\"}},\"ternary\":{\"aaxis\":{\"gridcolor\":\"white\",\"linecolor\":\"white\",\"ticks\":\"\"},\"baxis\":{\"gridcolor\":\"white\",\"linecolor\":\"white\",\"ticks\":\"\"},\"bgcolor\":\"#E5ECF6\",\"caxis\":{\"gridcolor\":\"white\",\"linecolor\":\"white\",\"ticks\":\"\"}},\"title\":{\"x\":0.05},\"xaxis\":{\"automargin\":true,\"gridcolor\":\"white\",\"linecolor\":\"white\",\"ticks\":\"\",\"title\":{\"standoff\":15},\"zerolinecolor\":\"white\",\"zerolinewidth\":2},\"yaxis\":{\"automargin\":true,\"gridcolor\":\"white\",\"linecolor\":\"white\",\"ticks\":\"\",\"title\":{\"standoff\":15},\"zerolinecolor\":\"white\",\"zerolinewidth\":2}}},\"xaxis\":{\"anchor\":\"y\",\"domain\":[0.0,1.0],\"title\":{\"text\":\"Country\"}},\"yaxis\":{\"anchor\":\"x\",\"domain\":[0.0,1.0],\"title\":{\"text\":\"Ratings\"}},\"coloraxis\":{\"colorbar\":{\"title\":{\"text\":\"Ratings\"}},\"colorscale\":[[0.0,\"#0d0887\"],[0.1111111111111111,\"#46039f\"],[0.2222222222222222,\"#7201a8\"],[0.3333333333333333,\"#9c179e\"],[0.4444444444444444,\"#bd3786\"],[0.5555555555555556,\"#d8576b\"],[0.6666666666666666,\"#ed7953\"],[0.7777777777777778,\"#fb9f3a\"],[0.8888888888888888,\"#fdca26\"],[1.0,\"#f0f921\"]]},\"legend\":{\"tracegroupgap\":0},\"margin\":{\"t\":60},\"barmode\":\"relative\"},                        {\"responsive\": true}                    ).then(function(){\n",
              "                            \n",
              "var gd = document.getElementById('98d65070-8b0d-4373-b3c7-7210392ffe70');\n",
              "var x = new MutationObserver(function (mutations, observer) {{\n",
              "        var display = window.getComputedStyle(gd).display;\n",
              "        if (!display || display === 'none') {{\n",
              "            console.log([gd, 'removed!']);\n",
              "            Plotly.purge(gd);\n",
              "            observer.disconnect();\n",
              "        }}\n",
              "}});\n",
              "\n",
              "// Listen for the removal of the full notebook cells\n",
              "var notebookContainer = gd.closest('#notebook-container');\n",
              "if (notebookContainer) {{\n",
              "    x.observe(notebookContainer, {childList: true});\n",
              "}}\n",
              "\n",
              "// Listen for the clearing of the current output cell\n",
              "var outputEl = gd.closest('.output');\n",
              "if (outputEl) {{\n",
              "    x.observe(outputEl, {childList: true});\n",
              "}}\n",
              "\n",
              "                        })                };                            </script>        </div>\n",
              "</body>\n",
              "</html>"
            ]
          },
          "metadata": {}
        }
      ]
    },
    {
      "cell_type": "markdown",
      "source": [
        "У Испании больше всего высокорейтинговых футболистов. Далее Франция, Англия, Бразилия, Германия. В общем понятно, все топовые сборные"
      ],
      "metadata": {
        "id": "YXznKn6BhdYW"
      }
    },
    {
      "cell_type": "markdown",
      "source": [
        "1. **Аппроксимация распределений данных с помощью ядерных оценок.**"
      ],
      "metadata": {
        "id": "tcUiw6TAag6v"
      }
    },
    {
      "cell_type": "code",
      "source": [
        "sns.displot(x='Ratings',\n",
        "            kde=True,\n",
        "            data=data);"
      ],
      "metadata": {
        "colab": {
          "base_uri": "https://localhost:8080/",
          "height": 369
        },
        "id": "LRVj4OiFalug",
        "outputId": "e9876df8-5299-4a36-b46b-127ee6717265"
      },
      "execution_count": null,
      "outputs": [
        {
          "output_type": "display_data",
          "data": {
            "text/plain": [
              "<Figure size 360x360 with 1 Axes>"
            ],
            "image/png": "[encoded data removed]"
          },
          "metadata": {
            "needs_background": "light"
          }
        }
      ]
    },
    {
      "cell_type": "markdown",
      "source": [
        "Ага, понятно, теперь можно прикинуть средний рейтинг (в районе 65) и то, как ведёт себя количество игроков с рейтингами ниже 50 (их почти нет) и выше 90 (их тоже очень мало). При этом наблюдается перекос в сторону рейтингов больше 65, то есть хорошие (75+) рейтинги получают сильно больше игроков, чем рейтинги меньше 55-, при том, что пик приходится всё равно в районе 65. Теперь взглянем на плотность ядра распределения рейтингов"
      ],
      "metadata": {
        "id": "FVADle0pbE52"
      }
    },
    {
      "cell_type": "code",
      "source": [
        "sns.kdeplot(x='Ratings',\n",
        "            data=data);"
      ],
      "metadata": {
        "colab": {
          "base_uri": "https://localhost:8080/",
          "height": 279
        },
        "id": "pbZTyQhTbGLR",
        "outputId": "6fa82198-32bc-456b-d706-bbe8153a6098"
      },
      "execution_count": null,
      "outputs": [
        {
          "output_type": "display_data",
          "data": {
            "text/plain": [
              "<Figure size 432x288 with 1 Axes>"
            ],
            "image/png": "[encoded data removed]"
          },
          "metadata": {
            "needs_background": "light"
          }
        }
      ]
    },
    {
      "cell_type": "markdown",
      "source": [
        "**2. Анализ данных с помощью cdplot, dotchart, boxplot и stripchart**"
      ],
      "metadata": {
        "id": "gE8jm04IcgRS"
      }
    },
    {
      "cell_type": "markdown",
      "source": [
        "Давайте посмотрим на распределение рейтингов лучших 50 игроков в зависимости от их позиции на поле"
      ],
      "metadata": {
        "id": "OzTPeND9dJBK"
      }
    },
    {
      "cell_type": "code",
      "source": [
        "df = data.copy()\n",
        "top = df.sort_values(by='Ratings' , ascending=False).drop_duplicates(subset='Name').head(50)\n",
        "\n",
        "#питоновский аналог cdplot\n",
        "\n",
        "sns.displot(data = top, x = 'Ratings', \n",
        "\thue = 'Position', \n",
        "\tmultiple=\"fill\", kind=\"kde\", palette=\"ch:rot=-0,light=.85\")"
      ],
      "metadata": {
        "colab": {
          "base_uri": "https://localhost:8080/",
          "height": 456
        },
        "id": "5CylG0AMcpn0",
        "outputId": "11b260e9-8908-4bb6-8f93-ec3b0c3d8eaa"
      },
      "execution_count": null,
      "outputs": [
        {
          "output_type": "stream",
          "name": "stderr",
          "text": [
            "/usr/local/lib/python3.7/dist-packages/seaborn/distributions.py:316: UserWarning:\n",
            "\n",
            "Dataset has 0 variance; skipping density estimate. Pass `warn_singular=False` to disable this warning.\n",
            "\n"
          ]
        },
        {
          "output_type": "execute_result",
          "data": {
            "text/plain": [
              "<seaborn.axisgrid.FacetGrid at 0x7f837c42da10>"
            ]
          },
          "metadata": {},
          "execution_count": 244
        },
        {
          "output_type": "display_data",
          "data": {
            "text/plain": [
              "<Figure size 440.125x360 with 1 Axes>"
            ],
            "image/png": "[encoded data removed]"
          },
          "metadata": {
            "needs_background": "light"
          }
        }
      ]
    },
    {
      "cell_type": "markdown",
      "source": [
        "Ага, интуитивно понятно, что самые топовые рейтинги в основном у игроков группы атаки. Но интересно, что третьей по численности позицией среди лучших 50 игроков это центральный защитник. Не знаю, как это объяснить, мне казалось, что будет так: ST - striker, CAM - central attack. midfiler, GK - goalkeeper. Но ладно"
      ],
      "metadata": {
        "id": "rP4GPY-Xeb8c"
      }
    },
    {
      "cell_type": "code",
      "source": [
        "#аналог dotchart\n",
        "\n",
        "import plotly.express as px\n",
        "fig = px.scatter(top, y =\"Position\", x = \"Ratings\", height=600)\n",
        "fig.update_yaxes(type='category', tickvals=top['Position'].tolist())\n",
        "fig.show()"
      ],
      "metadata": {
        "colab": {
          "base_uri": "https://localhost:8080/",
          "height": 617
        },
        "id": "ELeLVm0VtYdG",
        "outputId": "e23a3e4e-9de6-4238-9b5d-3ee8a0e0d8d4"
      },
      "execution_count": null,
      "outputs": [
        {
          "output_type": "display_data",
          "data": {
            "text/html": [
              "<html>\n",
              "<head><meta charset=\"utf-8\" /></head>\n",
              "<body>\n",
              "    <div>            <script src=\"https://cdnjs.cloudflare.com/ajax/libs/mathjax/2.7.5/MathJax.js?config=TeX-AMS-MML_SVG\"></script><script type=\"text/javascript\">if (window.MathJax) {MathJax.Hub.Config({SVG: {font: \"STIX-Web\"}});}</script>                <script type=\"text/javascript\">window.PlotlyConfig = {MathJaxConfig: 'local'};</script>\n",
              "        <script src=\"https://cdn.plot.ly/plotly-2.8.3.min.js\"></script>                <div id=\"f48ecf16-851f-440b-9883-eeeedc14ffec\" class=\"plotly-graph-div\" style=\"height:600px; width:100%;\"></div>            <script type=\"text/javascript\">                                    window.PLOTLYENV=window.PLOTLYENV || {};                                    if (document.getElementById(\"f48ecf16-851f-440b-9883-eeeedc14ffec\")) {                    Plotly.newPlot(                        \"f48ecf16-851f-440b-9883-eeeedc14ffec\",                        [{\"hovertemplate\":\"Ratings=%{x}<br>Position=%{y}<extra></extra>\",\"legendgroup\":\"\",\"marker\":{\"color\":\"#636efa\",\"symbol\":\"circle\"},\"mode\":\"markers\",\"name\":\"\",\"orientation\":\"h\",\"showlegend\":false,\"x\":[98,96,96,94,94,94,94,94,94,94,93,93,93,93,93,93,93,93,93,93,93,92,92,92,92,92,92,92,92,92,92,92,92,92,92,92,92,92,92,92,92,92,92,92,92,91,91,91,91,91],\"xaxis\":\"x\",\"y\":[\"CAM\",\"CAM\",\"ST\",\"CB\",\"ST\",\"LW\",\"RW\",\"GK\",\"CF\",\"CF\",\"ST\",\"CM\",\"ST\",\"CF\",\"CAM\",\"CM\",\"CB\",\"CF\",\"CF\",\"RB\",\"RW\",\"ST\",\"ST\",\"GK\",\"CF\",\"LW\",\"RW\",\"ST\",\"CM  CAM\",\"RW  RM\",\"RW  RM\",\"RW\",\"RB\",\"CF\",\"CF\",\"CM\",\"CB\",\"CB\",\"RM\",\"CB\",\"ST\",\"ST\",\"ST\",\"ST\",\"CB\",\"CAM\",\"CB\",\"LB\",\"GK\",\"LM\"],\"yaxis\":\"y\",\"type\":\"scatter\"}],                        {\"template\":{\"data\":{\"bar\":[{\"error_x\":{\"color\":\"#2a3f5f\"},\"error_y\":{\"color\":\"#2a3f5f\"},\"marker\":{\"line\":{\"color\":\"#E5ECF6\",\"width\":0.5},\"pattern\":{\"fillmode\":\"overlay\",\"size\":10,\"solidity\":0.2}},\"type\":\"bar\"}],\"barpolar\":[{\"marker\":{\"line\":{\"color\":\"#E5ECF6\",\"width\":0.5},\"pattern\":{\"fillmode\":\"overlay\",\"size\":10,\"solidity\":0.2}},\"type\":\"barpolar\"}],\"carpet\":[{\"aaxis\":{\"endlinecolor\":\"#2a3f5f\",\"gridcolor\":\"white\",\"linecolor\":\"white\",\"minorgridcolor\":\"white\",\"startlinecolor\":\"#2a3f5f\"},\"baxis\":{\"endlinecolor\":\"#2a3f5f\",\"gridcolor\":\"white\",\"linecolor\":\"white\",\"minorgridcolor\":\"white\",\"startlinecolor\":\"#2a3f5f\"},\"type\":\"carpet\"}],\"choropleth\":[{\"colorbar\":{\"outlinewidth\":0,\"ticks\":\"\"},\"type\":\"choropleth\"}],\"contour\":[{\"colorbar\":{\"outlinewidth\":0,\"ticks\":\"\"},\"colorscale\":[[0.0,\"#0d0887\"],[0.1111111111111111,\"#46039f\"],[0.2222222222222222,\"#7201a8\"],[0.3333333333333333,\"#9c179e\"],[0.4444444444444444,\"#bd3786\"],[0.5555555555555556,\"#d8576b\"],[0.6666666666666666,\"#ed7953\"],[0.7777777777777778,\"#fb9f3a\"],[0.8888888888888888,\"#fdca26\"],[1.0,\"#f0f921\"]],\"type\":\"contour\"}],\"contourcarpet\":[{\"colorbar\":{\"outlinewidth\":0,\"ticks\":\"\"},\"type\":\"contourcarpet\"}],\"heatmap\":[{\"colorbar\":{\"outlinewidth\":0,\"ticks\":\"\"},\"colorscale\":[[0.0,\"#0d0887\"],[0.1111111111111111,\"#46039f\"],[0.2222222222222222,\"#7201a8\"],[0.3333333333333333,\"#9c179e\"],[0.4444444444444444,\"#bd3786\"],[0.5555555555555556,\"#d8576b\"],[0.6666666666666666,\"#ed7953\"],[0.7777777777777778,\"#fb9f3a\"],[0.8888888888888888,\"#fdca26\"],[1.0,\"#f0f921\"]],\"type\":\"heatmap\"}],\"heatmapgl\":[{\"colorbar\":{\"outlinewidth\":0,\"ticks\":\"\"},\"colorscale\":[[0.0,\"#0d0887\"],[0.1111111111111111,\"#46039f\"],[0.2222222222222222,\"#7201a8\"],[0.3333333333333333,\"#9c179e\"],[0.4444444444444444,\"#bd3786\"],[0.5555555555555556,\"#d8576b\"],[0.6666666666666666,\"#ed7953\"],[0.7777777777777778,\"#fb9f3a\"],[0.8888888888888888,\"#fdca26\"],[1.0,\"#f0f921\"]],\"type\":\"heatmapgl\"}],\"histogram\":[{\"marker\":{\"pattern\":{\"fillmode\":\"overlay\",\"size\":10,\"solidity\":0.2}},\"type\":\"histogram\"}],\"histogram2d\":[{\"colorbar\":{\"outlinewidth\":0,\"ticks\":\"\"},\"colorscale\":[[0.0,\"#0d0887\"],[0.1111111111111111,\"#46039f\"],[0.2222222222222222,\"#7201a8\"],[0.3333333333333333,\"#9c179e\"],[0.4444444444444444,\"#bd3786\"],[0.5555555555555556,\"#d8576b\"],[0.6666666666666666,\"#ed7953\"],[0.7777777777777778,\"#fb9f3a\"],[0.8888888888888888,\"#fdca26\"],[1.0,\"#f0f921\"]],\"type\":\"histogram2d\"}],\"histogram2dcontour\":[{\"colorbar\":{\"outlinewidth\":0,\"ticks\":\"\"},\"colorscale\":[[0.0,\"#0d0887\"],[0.1111111111111111,\"#46039f\"],[0.2222222222222222,\"#7201a8\"],[0.3333333333333333,\"#9c179e\"],[0.4444444444444444,\"#bd3786\"],[0.5555555555555556,\"#d8576b\"],[0.6666666666666666,\"#ed7953\"],[0.7777777777777778,\"#fb9f3a\"],[0.8888888888888888,\"#fdca26\"],[1.0,\"#f0f921\"]],\"type\":\"histogram2dcontour\"}],\"mesh3d\":[{\"colorbar\":{\"outlinewidth\":0,\"ticks\":\"\"},\"type\":\"mesh3d\"}],\"parcoords\":[{\"line\":{\"colorbar\":{\"outlinewidth\":0,\"ticks\":\"\"}},\"type\":\"parcoords\"}],\"pie\":[{\"automargin\":true,\"type\":\"pie\"}],\"scatter\":[{\"marker\":{\"colorbar\":{\"outlinewidth\":0,\"ticks\":\"\"}},\"type\":\"scatter\"}],\"scatter3d\":[{\"line\":{\"colorbar\":{\"outlinewidth\":0,\"ticks\":\"\"}},\"marker\":{\"colorbar\":{\"outlinewidth\":0,\"ticks\":\"\"}},\"type\":\"scatter3d\"}],\"scattercarpet\":[{\"marker\":{\"colorbar\":{\"outlinewidth\":0,\"ticks\":\"\"}},\"type\":\"scattercarpet\"}],\"scattergeo\":[{\"marker\":{\"colorbar\":{\"outlinewidth\":0,\"ticks\":\"\"}},\"type\":\"scattergeo\"}],\"scattergl\":[{\"marker\":{\"colorbar\":{\"outlinewidth\":0,\"ticks\":\"\"}},\"type\":\"scattergl\"}],\"scattermapbox\":[{\"marker\":{\"colorbar\":{\"outlinewidth\":0,\"ticks\":\"\"}},\"type\":\"scattermapbox\"}],\"scatterpolar\":[{\"marker\":{\"colorbar\":{\"outlinewidth\":0,\"ticks\":\"\"}},\"type\":\"scatterpolar\"}],\"scatterpolargl\":[{\"marker\":{\"colorbar\":{\"outlinewidth\":0,\"ticks\":\"\"}},\"type\":\"scatterpolargl\"}],\"scatterternary\":[{\"marker\":{\"colorbar\":{\"outlinewidth\":0,\"ticks\":\"\"}},\"type\":\"scatterternary\"}],\"surface\":[{\"colorbar\":{\"outlinewidth\":0,\"ticks\":\"\"},\"colorscale\":[[0.0,\"#0d0887\"],[0.1111111111111111,\"#46039f\"],[0.2222222222222222,\"#7201a8\"],[0.3333333333333333,\"#9c179e\"],[0.4444444444444444,\"#bd3786\"],[0.5555555555555556,\"#d8576b\"],[0.6666666666666666,\"#ed7953\"],[0.7777777777777778,\"#fb9f3a\"],[0.8888888888888888,\"#fdca26\"],[1.0,\"#f0f921\"]],\"type\":\"surface\"}],\"table\":[{\"cells\":{\"fill\":{\"color\":\"#EBF0F8\"},\"line\":{\"color\":\"white\"}},\"header\":{\"fill\":{\"color\":\"#C8D4E3\"},\"line\":{\"color\":\"white\"}},\"type\":\"table\"}]},\"layout\":{\"annotationdefaults\":{\"arrowcolor\":\"#2a3f5f\",\"arrowhead\":0,\"arrowwidth\":1},\"autotypenumbers\":\"strict\",\"coloraxis\":{\"colorbar\":{\"outlinewidth\":0,\"ticks\":\"\"}},\"colorscale\":{\"diverging\":[[0,\"#8e0152\"],[0.1,\"#c51b7d\"],[0.2,\"#de77ae\"],[0.3,\"#f1b6da\"],[0.4,\"#fde0ef\"],[0.5,\"#f7f7f7\"],[0.6,\"#e6f5d0\"],[0.7,\"#b8e186\"],[0.8,\"#7fbc41\"],[0.9,\"#4d9221\"],[1,\"#276419\"]],\"sequential\":[[0.0,\"#0d0887\"],[0.1111111111111111,\"#46039f\"],[0.2222222222222222,\"#7201a8\"],[0.3333333333333333,\"#9c179e\"],[0.4444444444444444,\"#bd3786\"],[0.5555555555555556,\"#d8576b\"],[0.6666666666666666,\"#ed7953\"],[0.7777777777777778,\"#fb9f3a\"],[0.8888888888888888,\"#fdca26\"],[1.0,\"#f0f921\"]],\"sequentialminus\":[[0.0,\"#0d0887\"],[0.1111111111111111,\"#46039f\"],[0.2222222222222222,\"#7201a8\"],[0.3333333333333333,\"#9c179e\"],[0.4444444444444444,\"#bd3786\"],[0.5555555555555556,\"#d8576b\"],[0.6666666666666666,\"#ed7953\"],[0.7777777777777778,\"#fb9f3a\"],[0.8888888888888888,\"#fdca26\"],[1.0,\"#f0f921\"]]},\"colorway\":[\"#636efa\",\"#EF553B\",\"#00cc96\",\"#ab63fa\",\"#FFA15A\",\"#19d3f3\",\"#FF6692\",\"#B6E880\",\"#FF97FF\",\"#FECB52\"],\"font\":{\"color\":\"#2a3f5f\"},\"geo\":{\"bgcolor\":\"white\",\"lakecolor\":\"white\",\"landcolor\":\"#E5ECF6\",\"showlakes\":true,\"showland\":true,\"subunitcolor\":\"white\"},\"hoverlabel\":{\"align\":\"left\"},\"hovermode\":\"closest\",\"mapbox\":{\"style\":\"light\"},\"paper_bgcolor\":\"white\",\"plot_bgcolor\":\"#E5ECF6\",\"polar\":{\"angularaxis\":{\"gridcolor\":\"white\",\"linecolor\":\"white\",\"ticks\":\"\"},\"bgcolor\":\"#E5ECF6\",\"radialaxis\":{\"gridcolor\":\"white\",\"linecolor\":\"white\",\"ticks\":\"\"}},\"scene\":{\"xaxis\":{\"backgroundcolor\":\"#E5ECF6\",\"gridcolor\":\"white\",\"gridwidth\":2,\"linecolor\":\"white\",\"showbackground\":true,\"ticks\":\"\",\"zerolinecolor\":\"white\"},\"yaxis\":{\"backgroundcolor\":\"#E5ECF6\",\"gridcolor\":\"white\",\"gridwidth\":2,\"linecolor\":\"white\",\"showbackground\":true,\"ticks\":\"\",\"zerolinecolor\":\"white\"},\"zaxis\":{\"backgroundcolor\":\"#E5ECF6\",\"gridcolor\":\"white\",\"gridwidth\":2,\"linecolor\":\"white\",\"showbackground\":true,\"ticks\":\"\",\"zerolinecolor\":\"white\"}},\"shapedefaults\":{\"line\":{\"color\":\"#2a3f5f\"}},\"ternary\":{\"aaxis\":{\"gridcolor\":\"white\",\"linecolor\":\"white\",\"ticks\":\"\"},\"baxis\":{\"gridcolor\":\"white\",\"linecolor\":\"white\",\"ticks\":\"\"},\"bgcolor\":\"#E5ECF6\",\"caxis\":{\"gridcolor\":\"white\",\"linecolor\":\"white\",\"ticks\":\"\"}},\"title\":{\"x\":0.05},\"xaxis\":{\"automargin\":true,\"gridcolor\":\"white\",\"linecolor\":\"white\",\"ticks\":\"\",\"title\":{\"standoff\":15},\"zerolinecolor\":\"white\",\"zerolinewidth\":2},\"yaxis\":{\"automargin\":true,\"gridcolor\":\"white\",\"linecolor\":\"white\",\"ticks\":\"\",\"title\":{\"standoff\":15},\"zerolinecolor\":\"white\",\"zerolinewidth\":2}}},\"xaxis\":{\"anchor\":\"y\",\"domain\":[0.0,1.0],\"title\":{\"text\":\"Ratings\"}},\"yaxis\":{\"anchor\":\"x\",\"domain\":[0.0,1.0],\"title\":{\"text\":\"Position\"},\"type\":\"category\",\"tickvals\":[\"CAM\",\"CAM\",\"ST\",\"CB\",\"ST\",\"LW\",\"RW\",\"GK\",\"CF\",\"CF\",\"ST\",\"CM\",\"ST\",\"CF\",\"CAM\",\"CM\",\"CB\",\"CF\",\"CF\",\"RB\",\"RW\",\"ST\",\"ST\",\"GK\",\"CF\",\"LW\",\"RW\",\"ST\",\"CM  CAM\",\"RW  RM\",\"RW  RM\",\"RW\",\"RB\",\"CF\",\"CF\",\"CM\",\"CB\",\"CB\",\"RM\",\"CB\",\"ST\",\"ST\",\"ST\",\"ST\",\"CB\",\"CAM\",\"CB\",\"LB\",\"GK\",\"LM\"]},\"legend\":{\"tracegroupgap\":0},\"margin\":{\"t\":60},\"height\":600},                        {\"responsive\": true}                    ).then(function(){\n",
              "                            \n",
              "var gd = document.getElementById('f48ecf16-851f-440b-9883-eeeedc14ffec');\n",
              "var x = new MutationObserver(function (mutations, observer) {{\n",
              "        var display = window.getComputedStyle(gd).display;\n",
              "        if (!display || display === 'none') {{\n",
              "            console.log([gd, 'removed!']);\n",
              "            Plotly.purge(gd);\n",
              "            observer.disconnect();\n",
              "        }}\n",
              "}});\n",
              "\n",
              "// Listen for the removal of the full notebook cells\n",
              "var notebookContainer = gd.closest('#notebook-container');\n",
              "if (notebookContainer) {{\n",
              "    x.observe(notebookContainer, {childList: true});\n",
              "}}\n",
              "\n",
              "// Listen for the clearing of the current output cell\n",
              "var outputEl = gd.closest('.output');\n",
              "if (outputEl) {{\n",
              "    x.observe(outputEl, {childList: true});\n",
              "}}\n",
              "\n",
              "                        })                };                            </script>        </div>\n",
              "</body>\n",
              "</html>"
            ]
          },
          "metadata": {}
        }
      ]
    },
    {
      "cell_type": "markdown",
      "source": [
        "Теперь проанализируем топовых игроков по странам, проверим, есть ли у какой-то страны сразу несколько лучших игроков за всю историю футбола"
      ],
      "metadata": {
        "id": "FpUSxlav1AKC"
      }
    },
    {
      "cell_type": "code",
      "source": [
        "#аналог dotchart\n",
        "\n",
        "fig = px.scatter(top, y =\"Country\", x = \"Ratings\", height=600)\n",
        "fig.update_yaxes(type='category', tickvals=top['Country'].tolist())\n",
        "fig.show()"
      ],
      "metadata": {
        "colab": {
          "base_uri": "https://localhost:8080/",
          "height": 617
        },
        "id": "j5sNQq6W02k8",
        "outputId": "97719e27-ce5b-45cb-d9eb-62f87808b7ef"
      },
      "execution_count": null,
      "outputs": [
        {
          "output_type": "display_data",
          "data": {
            "text/html": [
              "<html>\n",
              "<head><meta charset=\"utf-8\" /></head>\n",
              "<body>\n",
              "    <div>            <script src=\"https://cdnjs.cloudflare.com/ajax/libs/mathjax/2.7.5/MathJax.js?config=TeX-AMS-MML_SVG\"></script><script type=\"text/javascript\">if (window.MathJax) {MathJax.Hub.Config({SVG: {font: \"STIX-Web\"}});}</script>                <script type=\"text/javascript\">window.PlotlyConfig = {MathJaxConfig: 'local'};</script>\n",
              "        <script src=\"https://cdn.plot.ly/plotly-2.8.3.min.js\"></script>                <div id=\"bbee3974-7b3c-47d3-8a2b-f787db46c9a7\" class=\"plotly-graph-div\" style=\"height:600px; width:100%;\"></div>            <script type=\"text/javascript\">                                    window.PLOTLYENV=window.PLOTLYENV || {};                                    if (document.getElementById(\"bbee3974-7b3c-47d3-8a2b-f787db46c9a7\")) {                    Plotly.newPlot(                        \"bbee3974-7b3c-47d3-8a2b-f787db46c9a7\",                        [{\"hovertemplate\":\"Ratings=%{x}<br>Country=%{y}<extra></extra>\",\"legendgroup\":\"\",\"marker\":{\"color\":\"#636efa\",\"symbol\":\"circle\"},\"mode\":\"markers\",\"name\":\"\",\"orientation\":\"h\",\"showlegend\":false,\"x\":[98,96,96,94,94,94,94,94,94,94,93,93,93,93,93,93,93,93,93,93,93,92,92,92,92,92,92,92,92,92,92,92,92,92,92,92,92,92,92,92,92,92,92,92,92,91,91,91,91,91],\"xaxis\":\"x\",\"y\":[\"Brazil\",\"France\",\"Brazil\",\"Italy\",\"Germany\",\"Brazil\",\"Brazil\",\"Russia\",\"Netherlands\",\"Hungary\",\"Netherlands\",\"Spain\",\"France\",\"Netherlands\",\"Italy\",\"Germany\",\"Italy\",\"Portugal\",\"France\",\"Brazil\",\"Northern Ireland\",\"Scotland\",\"Netherlands\",\"Denmark\",\"Spain\",\"Brazil\",\"Brazil\",\"Cameroon\",\"Belgium\",\"Argentina\",\"Brazil\",\"Portugal\",\"Argentina\",\"Netherlands\",\"Italy\",\"Italy\",\"England\",\"Spain\",\"England\",\"Italy\",\"Spain\",\"England\",\"Bulgaria\",\"Mexico\",\"Italy\",\"Brazil\",\"Netherlands\",\"Brazil\",\"Czech Republic\",\"France\"],\"yaxis\":\"y\",\"type\":\"scatter\"}],                        {\"template\":{\"data\":{\"bar\":[{\"error_x\":{\"color\":\"#2a3f5f\"},\"error_y\":{\"color\":\"#2a3f5f\"},\"marker\":{\"line\":{\"color\":\"#E5ECF6\",\"width\":0.5},\"pattern\":{\"fillmode\":\"overlay\",\"size\":10,\"solidity\":0.2}},\"type\":\"bar\"}],\"barpolar\":[{\"marker\":{\"line\":{\"color\":\"#E5ECF6\",\"width\":0.5},\"pattern\":{\"fillmode\":\"overlay\",\"size\":10,\"solidity\":0.2}},\"type\":\"barpolar\"}],\"carpet\":[{\"aaxis\":{\"endlinecolor\":\"#2a3f5f\",\"gridcolor\":\"white\",\"linecolor\":\"white\",\"minorgridcolor\":\"white\",\"startlinecolor\":\"#2a3f5f\"},\"baxis\":{\"endlinecolor\":\"#2a3f5f\",\"gridcolor\":\"white\",\"linecolor\":\"white\",\"minorgridcolor\":\"white\",\"startlinecolor\":\"#2a3f5f\"},\"type\":\"carpet\"}],\"choropleth\":[{\"colorbar\":{\"outlinewidth\":0,\"ticks\":\"\"},\"type\":\"choropleth\"}],\"contour\":[{\"colorbar\":{\"outlinewidth\":0,\"ticks\":\"\"},\"colorscale\":[[0.0,\"#0d0887\"],[0.1111111111111111,\"#46039f\"],[0.2222222222222222,\"#7201a8\"],[0.3333333333333333,\"#9c179e\"],[0.4444444444444444,\"#bd3786\"],[0.5555555555555556,\"#d8576b\"],[0.6666666666666666,\"#ed7953\"],[0.7777777777777778,\"#fb9f3a\"],[0.8888888888888888,\"#fdca26\"],[1.0,\"#f0f921\"]],\"type\":\"contour\"}],\"contourcarpet\":[{\"colorbar\":{\"outlinewidth\":0,\"ticks\":\"\"},\"type\":\"contourcarpet\"}],\"heatmap\":[{\"colorbar\":{\"outlinewidth\":0,\"ticks\":\"\"},\"colorscale\":[[0.0,\"#0d0887\"],[0.1111111111111111,\"#46039f\"],[0.2222222222222222,\"#7201a8\"],[0.3333333333333333,\"#9c179e\"],[0.4444444444444444,\"#bd3786\"],[0.5555555555555556,\"#d8576b\"],[0.6666666666666666,\"#ed7953\"],[0.7777777777777778,\"#fb9f3a\"],[0.8888888888888888,\"#fdca26\"],[1.0,\"#f0f921\"]],\"type\":\"heatmap\"}],\"heatmapgl\":[{\"colorbar\":{\"outlinewidth\":0,\"ticks\":\"\"},\"colorscale\":[[0.0,\"#0d0887\"],[0.1111111111111111,\"#46039f\"],[0.2222222222222222,\"#7201a8\"],[0.3333333333333333,\"#9c179e\"],[0.4444444444444444,\"#bd3786\"],[0.5555555555555556,\"#d8576b\"],[0.6666666666666666,\"#ed7953\"],[0.7777777777777778,\"#fb9f3a\"],[0.8888888888888888,\"#fdca26\"],[1.0,\"#f0f921\"]],\"type\":\"heatmapgl\"}],\"histogram\":[{\"marker\":{\"pattern\":{\"fillmode\":\"overlay\",\"size\":10,\"solidity\":0.2}},\"type\":\"histogram\"}],\"histogram2d\":[{\"colorbar\":{\"outlinewidth\":0,\"ticks\":\"\"},\"colorscale\":[[0.0,\"#0d0887\"],[0.1111111111111111,\"#46039f\"],[0.2222222222222222,\"#7201a8\"],[0.3333333333333333,\"#9c179e\"],[0.4444444444444444,\"#bd3786\"],[0.5555555555555556,\"#d8576b\"],[0.6666666666666666,\"#ed7953\"],[0.7777777777777778,\"#fb9f3a\"],[0.8888888888888888,\"#fdca26\"],[1.0,\"#f0f921\"]],\"type\":\"histogram2d\"}],\"histogram2dcontour\":[{\"colorbar\":{\"outlinewidth\":0,\"ticks\":\"\"},\"colorscale\":[[0.0,\"#0d0887\"],[0.1111111111111111,\"#46039f\"],[0.2222222222222222,\"#7201a8\"],[0.3333333333333333,\"#9c179e\"],[0.4444444444444444,\"#bd3786\"],[0.5555555555555556,\"#d8576b\"],[0.6666666666666666,\"#ed7953\"],[0.7777777777777778,\"#fb9f3a\"],[0.8888888888888888,\"#fdca26\"],[1.0,\"#f0f921\"]],\"type\":\"histogram2dcontour\"}],\"mesh3d\":[{\"colorbar\":{\"outlinewidth\":0,\"ticks\":\"\"},\"type\":\"mesh3d\"}],\"parcoords\":[{\"line\":{\"colorbar\":{\"outlinewidth\":0,\"ticks\":\"\"}},\"type\":\"parcoords\"}],\"pie\":[{\"automargin\":true,\"type\":\"pie\"}],\"scatter\":[{\"marker\":{\"colorbar\":{\"outlinewidth\":0,\"ticks\":\"\"}},\"type\":\"scatter\"}],\"scatter3d\":[{\"line\":{\"colorbar\":{\"outlinewidth\":0,\"ticks\":\"\"}},\"marker\":{\"colorbar\":{\"outlinewidth\":0,\"ticks\":\"\"}},\"type\":\"scatter3d\"}],\"scattercarpet\":[{\"marker\":{\"colorbar\":{\"outlinewidth\":0,\"ticks\":\"\"}},\"type\":\"scattercarpet\"}],\"scattergeo\":[{\"marker\":{\"colorbar\":{\"outlinewidth\":0,\"ticks\":\"\"}},\"type\":\"scattergeo\"}],\"scattergl\":[{\"marker\":{\"colorbar\":{\"outlinewidth\":0,\"ticks\":\"\"}},\"type\":\"scattergl\"}],\"scattermapbox\":[{\"marker\":{\"colorbar\":{\"outlinewidth\":0,\"ticks\":\"\"}},\"type\":\"scattermapbox\"}],\"scatterpolar\":[{\"marker\":{\"colorbar\":{\"outlinewidth\":0,\"ticks\":\"\"}},\"type\":\"scatterpolar\"}],\"scatterpolargl\":[{\"marker\":{\"colorbar\":{\"outlinewidth\":0,\"ticks\":\"\"}},\"type\":\"scatterpolargl\"}],\"scatterternary\":[{\"marker\":{\"colorbar\":{\"outlinewidth\":0,\"ticks\":\"\"}},\"type\":\"scatterternary\"}],\"surface\":[{\"colorbar\":{\"outlinewidth\":0,\"ticks\":\"\"},\"colorscale\":[[0.0,\"#0d0887\"],[0.1111111111111111,\"#46039f\"],[0.2222222222222222,\"#7201a8\"],[0.3333333333333333,\"#9c179e\"],[0.4444444444444444,\"#bd3786\"],[0.5555555555555556,\"#d8576b\"],[0.6666666666666666,\"#ed7953\"],[0.7777777777777778,\"#fb9f3a\"],[0.8888888888888888,\"#fdca26\"],[1.0,\"#f0f921\"]],\"type\":\"surface\"}],\"table\":[{\"cells\":{\"fill\":{\"color\":\"#EBF0F8\"},\"line\":{\"color\":\"white\"}},\"header\":{\"fill\":{\"color\":\"#C8D4E3\"},\"line\":{\"color\":\"white\"}},\"type\":\"table\"}]},\"layout\":{\"annotationdefaults\":{\"arrowcolor\":\"#2a3f5f\",\"arrowhead\":0,\"arrowwidth\":1},\"autotypenumbers\":\"strict\",\"coloraxis\":{\"colorbar\":{\"outlinewidth\":0,\"ticks\":\"\"}},\"colorscale\":{\"diverging\":[[0,\"#8e0152\"],[0.1,\"#c51b7d\"],[0.2,\"#de77ae\"],[0.3,\"#f1b6da\"],[0.4,\"#fde0ef\"],[0.5,\"#f7f7f7\"],[0.6,\"#e6f5d0\"],[0.7,\"#b8e186\"],[0.8,\"#7fbc41\"],[0.9,\"#4d9221\"],[1,\"#276419\"]],\"sequential\":[[0.0,\"#0d0887\"],[0.1111111111111111,\"#46039f\"],[0.2222222222222222,\"#7201a8\"],[0.3333333333333333,\"#9c179e\"],[0.4444444444444444,\"#bd3786\"],[0.5555555555555556,\"#d8576b\"],[0.6666666666666666,\"#ed7953\"],[0.7777777777777778,\"#fb9f3a\"],[0.8888888888888888,\"#fdca26\"],[1.0,\"#f0f921\"]],\"sequentialminus\":[[0.0,\"#0d0887\"],[0.1111111111111111,\"#46039f\"],[0.2222222222222222,\"#7201a8\"],[0.3333333333333333,\"#9c179e\"],[0.4444444444444444,\"#bd3786\"],[0.5555555555555556,\"#d8576b\"],[0.6666666666666666,\"#ed7953\"],[0.7777777777777778,\"#fb9f3a\"],[0.8888888888888888,\"#fdca26\"],[1.0,\"#f0f921\"]]},\"colorway\":[\"#636efa\",\"#EF553B\",\"#00cc96\",\"#ab63fa\",\"#FFA15A\",\"#19d3f3\",\"#FF6692\",\"#B6E880\",\"#FF97FF\",\"#FECB52\"],\"font\":{\"color\":\"#2a3f5f\"},\"geo\":{\"bgcolor\":\"white\",\"lakecolor\":\"white\",\"landcolor\":\"#E5ECF6\",\"showlakes\":true,\"showland\":true,\"subunitcolor\":\"white\"},\"hoverlabel\":{\"align\":\"left\"},\"hovermode\":\"closest\",\"mapbox\":{\"style\":\"light\"},\"paper_bgcolor\":\"white\",\"plot_bgcolor\":\"#E5ECF6\",\"polar\":{\"angularaxis\":{\"gridcolor\":\"white\",\"linecolor\":\"white\",\"ticks\":\"\"},\"bgcolor\":\"#E5ECF6\",\"radialaxis\":{\"gridcolor\":\"white\",\"linecolor\":\"white\",\"ticks\":\"\"}},\"scene\":{\"xaxis\":{\"backgroundcolor\":\"#E5ECF6\",\"gridcolor\":\"white\",\"gridwidth\":2,\"linecolor\":\"white\",\"showbackground\":true,\"ticks\":\"\",\"zerolinecolor\":\"white\"},\"yaxis\":{\"backgroundcolor\":\"#E5ECF6\",\"gridcolor\":\"white\",\"gridwidth\":2,\"linecolor\":\"white\",\"showbackground\":true,\"ticks\":\"\",\"zerolinecolor\":\"white\"},\"zaxis\":{\"backgroundcolor\":\"#E5ECF6\",\"gridcolor\":\"white\",\"gridwidth\":2,\"linecolor\":\"white\",\"showbackground\":true,\"ticks\":\"\",\"zerolinecolor\":\"white\"}},\"shapedefaults\":{\"line\":{\"color\":\"#2a3f5f\"}},\"ternary\":{\"aaxis\":{\"gridcolor\":\"white\",\"linecolor\":\"white\",\"ticks\":\"\"},\"baxis\":{\"gridcolor\":\"white\",\"linecolor\":\"white\",\"ticks\":\"\"},\"bgcolor\":\"#E5ECF6\",\"caxis\":{\"gridcolor\":\"white\",\"linecolor\":\"white\",\"ticks\":\"\"}},\"title\":{\"x\":0.05},\"xaxis\":{\"automargin\":true,\"gridcolor\":\"white\",\"linecolor\":\"white\",\"ticks\":\"\",\"title\":{\"standoff\":15},\"zerolinecolor\":\"white\",\"zerolinewidth\":2},\"yaxis\":{\"automargin\":true,\"gridcolor\":\"white\",\"linecolor\":\"white\",\"ticks\":\"\",\"title\":{\"standoff\":15},\"zerolinecolor\":\"white\",\"zerolinewidth\":2}}},\"xaxis\":{\"anchor\":\"y\",\"domain\":[0.0,1.0],\"title\":{\"text\":\"Ratings\"}},\"yaxis\":{\"anchor\":\"x\",\"domain\":[0.0,1.0],\"title\":{\"text\":\"Country\"},\"type\":\"category\",\"tickvals\":[\"Brazil\",\"France\",\"Brazil\",\"Italy\",\"Germany\",\"Brazil\",\"Brazil\",\"Russia\",\"Netherlands\",\"Hungary\",\"Netherlands\",\"Spain\",\"France\",\"Netherlands\",\"Italy\",\"Germany\",\"Italy\",\"Portugal\",\"France\",\"Brazil\",\"Northern Ireland\",\"Scotland\",\"Netherlands\",\"Denmark\",\"Spain\",\"Brazil\",\"Brazil\",\"Cameroon\",\"Belgium\",\"Argentina\",\"Brazil\",\"Portugal\",\"Argentina\",\"Netherlands\",\"Italy\",\"Italy\",\"England\",\"Spain\",\"England\",\"Italy\",\"Spain\",\"England\",\"Bulgaria\",\"Mexico\",\"Italy\",\"Brazil\",\"Netherlands\",\"Brazil\",\"Czech Republic\",\"France\"]},\"legend\":{\"tracegroupgap\":0},\"margin\":{\"t\":60},\"height\":600},                        {\"responsive\": true}                    ).then(function(){\n",
              "                            \n",
              "var gd = document.getElementById('bbee3974-7b3c-47d3-8a2b-f787db46c9a7');\n",
              "var x = new MutationObserver(function (mutations, observer) {{\n",
              "        var display = window.getComputedStyle(gd).display;\n",
              "        if (!display || display === 'none') {{\n",
              "            console.log([gd, 'removed!']);\n",
              "            Plotly.purge(gd);\n",
              "            observer.disconnect();\n",
              "        }}\n",
              "}});\n",
              "\n",
              "// Listen for the removal of the full notebook cells\n",
              "var notebookContainer = gd.closest('#notebook-container');\n",
              "if (notebookContainer) {{\n",
              "    x.observe(notebookContainer, {childList: true});\n",
              "}}\n",
              "\n",
              "// Listen for the clearing of the current output cell\n",
              "var outputEl = gd.closest('.output');\n",
              "if (outputEl) {{\n",
              "    x.observe(outputEl, {childList: true});\n",
              "}}\n",
              "\n",
              "                        })                };                            </script>        </div>\n",
              "</body>\n",
              "</html>"
            ]
          },
          "metadata": {}
        }
      ]
    },
    {
      "cell_type": "markdown",
      "source": [
        "Да, у Бразилии много легендарных игроков... Затесался даже один игрок из России (это Лев Яшин)"
      ],
      "metadata": {
        "id": "vr3nD0yZ1KQM"
      }
    },
    {
      "cell_type": "code",
      "source": [
        "#аналог boxplot\n",
        "\n",
        "sns.boxplot(data = top, y = \"Ratings\", x = \"Position\")"
      ],
      "metadata": {
        "colab": {
          "base_uri": "https://localhost:8080/",
          "height": 296
        },
        "id": "LRrxnRns318J",
        "outputId": "98f5d786-3c44-46f4-f4f0-02eb709c8981"
      },
      "execution_count": null,
      "outputs": [
        {
          "output_type": "execute_result",
          "data": {
            "text/plain": [
              "<matplotlib.axes._subplots.AxesSubplot at 0x7f837ca95690>"
            ]
          },
          "metadata": {},
          "execution_count": 247
        },
        {
          "output_type": "display_data",
          "data": {
            "text/plain": [
              "<Figure size 432x288 with 1 Axes>"
            ],
            "image/png": "[encoded data removed]"
          },
          "metadata": {
            "needs_background": "light"
          }
        }
      ]
    },
    {
      "cell_type": "code",
      "source": [
        "#аналог stripchart\n",
        "\n",
        "sns.stripplot(\n",
        "    data=top, y = \"Ratings\", x = \"Position\",\n",
        "    jitter=False, s=100, marker=\"D\", linewidth=1, alpha=0.1,\n",
        ")"
      ],
      "metadata": {
        "colab": {
          "base_uri": "https://localhost:8080/",
          "height": 296
        },
        "id": "d1aKJCcV36Ij",
        "outputId": "8fae7b3d-f634-4c0b-81a3-8bbfabbb745f"
      },
      "execution_count": null,
      "outputs": [
        {
          "output_type": "execute_result",
          "data": {
            "text/plain": [
              "<matplotlib.axes._subplots.AxesSubplot at 0x7f837cde6d50>"
            ]
          },
          "metadata": {},
          "execution_count": 248
        },
        {
          "output_type": "display_data",
          "data": {
            "text/plain": [
              "<Figure size 432x288 with 1 Axes>"
            ],
            "image/png": "[encoded data removed]"
          },
          "metadata": {
            "needs_background": "light"
          }
        }
      ]
    },
    {
      "cell_type": "markdown",
      "source": [
        "**3. Проверить, являются ли наблюдения выбросами с точки зрения формальных статистических критериев Граббса и Q-теста Диксона. Визуализировать результаты**"
      ],
      "metadata": {
        "id": "TQJE-HIM52C6"
      }
    },
    {
      "cell_type": "code",
      "source": [
        "!pip install neulab"
      ],
      "metadata": {
        "colab": {
          "base_uri": "https://localhost:8080/"
        },
        "id": "8kICwX6X5-4P",
        "outputId": "f5a43d0a-e326-46be-bb46-c84abaf3c30d"
      },
      "execution_count": null,
      "outputs": [
        {
          "output_type": "stream",
          "name": "stdout",
          "text": [
            "Looking in indexes: https://pypi.org/simple, https://us-python.pkg.dev/colab-wheels/public/simple/\n",
            "Collecting neulab\n",
            "  Downloading neulab-0.0.23-py3-none-any.whl (13 kB)\n",
            "Requirement already satisfied: matplotlib in /usr/local/lib/python3.7/dist-packages (from neulab) (3.2.2)\n",
            "Requirement already satisfied: pandas in /usr/local/lib/python3.7/dist-packages (from neulab) (1.3.5)\n",
            "Requirement already satisfied: networkx in /usr/local/lib/python3.7/dist-packages (from neulab) (2.6.3)\n",
            "Requirement already satisfied: scipy in /usr/local/lib/python3.7/dist-packages (from neulab) (1.7.3)\n",
            "Requirement already satisfied: numpy in /usr/local/lib/python3.7/dist-packages (from neulab) (1.21.6)\n",
            "Requirement already satisfied: cycler>=0.10 in /usr/local/lib/python3.7/dist-packages (from matplotlib->neulab) (0.11.0)\n",
            "Requirement already satisfied: kiwisolver>=1.0.1 in /usr/local/lib/python3.7/dist-packages (from matplotlib->neulab) (1.4.4)\n",
            "Requirement already satisfied: pyparsing!=2.0.4,!=2.1.2,!=2.1.6,>=2.0.1 in /usr/local/lib/python3.7/dist-packages (from matplotlib->neulab) (3.0.9)\n",
            "Requirement already satisfied: python-dateutil>=2.1 in /usr/local/lib/python3.7/dist-packages (from matplotlib->neulab) (2.8.2)\n",
            "Requirement already satisfied: typing-extensions in /usr/local/lib/python3.7/dist-packages (from kiwisolver>=1.0.1->matplotlib->neulab) (4.1.1)\n",
            "Requirement already satisfied: six>=1.5 in /usr/local/lib/python3.7/dist-packages (from python-dateutil>=2.1->matplotlib->neulab) (1.15.0)\n",
            "Requirement already satisfied: pytz>=2017.3 in /usr/local/lib/python3.7/dist-packages (from pandas->neulab) (2022.6)\n",
            "Installing collected packages: neulab\n",
            "Successfully installed neulab-0.0.23\n"
          ]
        }
      ]
    },
    {
      "cell_type": "markdown",
      "source": [
        "сделаем тест Диксона на поиск выброса в рейтингах и популярности "
      ],
      "metadata": {
        "id": "dN4t5oI2Bwrq"
      }
    },
    {
      "cell_type": "code",
      "source": [
        "from neulab.OutlierDetection import DixonTest\n",
        "\n",
        "d = {'Ratings': data['Ratings'].head(25), 'Popularity': data['Popularity'].head(25)}\n",
        "df = pd.DataFrame(data=d)\n",
        "qtest = DixonTest(dataframe=df, q=95, info=True, autorm=True)"
      ],
      "metadata": {
        "colab": {
          "base_uri": "https://localhost:8080/"
        },
        "id": "A5_fKv5G-aFL",
        "outputId": "dda89ff8-a1f2-4897-fad7-9c3405de9783"
      },
      "execution_count": null,
      "outputs": [
        {
          "output_type": "stream",
          "name": "stdout",
          "text": [
            "Detected outlier: \n",
            "   Ratings  Popularity\n",
            "0       98        1790\n"
          ]
        }
      ]
    },
    {
      "cell_type": "markdown",
      "source": [
        "Ага, Пеле это выброс"
      ],
      "metadata": {
        "id": "gbt_bURHGnqN"
      }
    },
    {
      "cell_type": "code",
      "source": [
        "def q_test_for_smallest_point(dataset):\n",
        "    q_ref = 0.29  # the reference Q value for a significance level of 95% and 30 data points\n",
        "    q_stat = (dataset[1] - dataset[0])/(dataset[-1] - dataset[0])\n",
        "\n",
        "    if q_stat > q_ref:\n",
        "        print(\"Since our Q-statistic is %f and %f > %f, we have evidence that our \"\n",
        "              \"minimum point IS an outlier to the data.\" %(q_stat, q_stat, q_ref))\n",
        "    else:\n",
        "        print(\"Since our Q-statistic is %f and %f < %f, we have evidence that our \"\n",
        "              \"minimum point is NOT an outlier to the data.\" %(q_stat, q_stat, q_ref))"
      ],
      "metadata": {
        "id": "wgYyBL4uCXpu"
      },
      "execution_count": null,
      "outputs": []
    },
    {
      "cell_type": "code",
      "source": [
        "dataset = data[0:25]['Popularity'].values.tolist()\n",
        "dataset.sort()\n",
        "q_test_for_smallest_point(dataset)"
      ],
      "metadata": {
        "colab": {
          "base_uri": "https://localhost:8080/"
        },
        "id": "PjBydfNECaaA",
        "outputId": "f182bc73-a262-4d17-a3d3-776b4bd9cf30"
      },
      "execution_count": null,
      "outputs": [
        {
          "output_type": "stream",
          "name": "stdout",
          "text": [
            "Since our Q-statistic is 0.028094 and 0.028094 < 0.290000, we have evidence that our minimum point is NOT an outlier to the data.\n"
          ]
        }
      ]
    },
    {
      "cell_type": "markdown",
      "source": [
        "Минимальных выбросов нет"
      ],
      "metadata": {
        "id": "RgZLS201I0yl"
      }
    },
    {
      "cell_type": "markdown",
      "source": [
        "Теперь тест Граббса"
      ],
      "metadata": {
        "id": "mVLcFLOfETXx"
      }
    },
    {
      "cell_type": "code",
      "source": [
        "!pip install outlier_utils\n",
        "from outliers import smirnov_grubbs as grubbs"
      ],
      "metadata": {
        "colab": {
          "base_uri": "https://localhost:8080/"
        },
        "id": "wmiypz9dD0pg",
        "outputId": "614db4c8-1b59-493b-bb36-4343ce79cc9e"
      },
      "execution_count": null,
      "outputs": [
        {
          "output_type": "stream",
          "name": "stdout",
          "text": [
            "Looking in indexes: https://pypi.org/simple, https://us-python.pkg.dev/colab-wheels/public/simple/\n",
            "Requirement already satisfied: outlier_utils in /usr/local/lib/python3.7/dist-packages (0.0.3)\n"
          ]
        }
      ]
    },
    {
      "cell_type": "code",
      "source": [
        "dat =  data[0:30]['Ratings'].values.tolist()\n",
        "grubbs. max_test_outliers (dat, alpha=.05)"
      ],
      "metadata": {
        "colab": {
          "base_uri": "https://localhost:8080/"
        },
        "id": "b5cF15rfESny",
        "outputId": "0c5b33bb-2eb1-4100-993f-a0a663ac9bd6"
      },
      "execution_count": null,
      "outputs": [
        {
          "output_type": "execute_result",
          "data": {
            "text/plain": [
              "[98]"
            ]
          },
          "metadata": {},
          "execution_count": 254
        }
      ]
    },
    {
      "cell_type": "markdown",
      "source": [
        "Среди 30 лучших снова Пеле это выброс, но если попробовать 1000 лучших:"
      ],
      "metadata": {
        "id": "OiFbkI-tJAbh"
      }
    },
    {
      "cell_type": "code",
      "source": [
        "dat =  data[0:1000]['Ratings'].values.tolist()\n",
        "grubbs. max_test_outliers (dat, alpha=.05)"
      ],
      "metadata": {
        "colab": {
          "base_uri": "https://localhost:8080/"
        },
        "id": "DPP80BrTJFeJ",
        "outputId": "7ae9bfbf-f361-49b9-a60b-05cd0b140aab"
      },
      "execution_count": null,
      "outputs": [
        {
          "output_type": "execute_result",
          "data": {
            "text/plain": [
              "[]"
            ]
          },
          "metadata": {},
          "execution_count": 255
        }
      ]
    },
    {
      "cell_type": "markdown",
      "source": [
        "То выбросов с 5% уровнем для теста Граббса нет"
      ],
      "metadata": {
        "id": "WRX1G17pJJI8"
      }
    },
    {
      "cell_type": "markdown",
      "source": [
        "**4. Воспользоваться инструментами для заполнения пропусков в данных. Пропуски внести вручную и сравнить результаты заполнения с истинными значениями.**"
      ],
      "metadata": {
        "id": "0pitRO2XJYvu"
      }
    },
    {
      "cell_type": "code",
      "source": [
        "mas = np.array(data['Ratings'])\n",
        "df = pd.DataFrame({'val' : mas})\n",
        "df"
      ],
      "metadata": {
        "colab": {
          "base_uri": "https://localhost:8080/",
          "height": 424
        },
        "id": "0gbN-0JFSQ5C",
        "outputId": "2a59e623-28bc-44eb-d6e8-2b7056f86e29"
      },
      "execution_count": null,
      "outputs": [
        {
          "output_type": "execute_result",
          "data": {
            "text/plain": [
              "       val\n",
              "0       98\n",
              "1       96\n",
              "2       96\n",
              "3       95\n",
              "4       94\n",
              "...    ...\n",
              "16451   46\n",
              "16452   46\n",
              "16453   46\n",
              "16454   46\n",
              "16455   46\n",
              "\n",
              "[16456 rows x 1 columns]"
            ],
            "text/html": [
              "\n",
              "  <div id=\"df-4f0dbce0-fd09-493d-8ef7-b1b74b73bdd7\">\n",
              "    <div class=\"colab-df-container\">\n",
              "      <div>\n",
              "<style scoped>\n",
              "    .dataframe tbody tr th:only-of-type {\n",
              "        vertical-align: middle;\n",
              "    }\n",
              "\n",
              "    .dataframe tbody tr th {\n",
              "        vertical-align: top;\n",
              "    }\n",
              "\n",
              "    .dataframe thead th {\n",
              "        text-align: right;\n",
              "    }\n",
              "</style>\n",
              "<table border=\"1\" class=\"dataframe\">\n",
              "  <thead>\n",
              "    <tr style=\"text-align: right;\">\n",
              "      <th></th>\n",
              "      <th>val</th>\n",
              "    </tr>\n",
              "  </thead>\n",
              "  <tbody>\n",
              "    <tr>\n",
              "      <th>0</th>\n",
              "      <td>98</td>\n",
              "    </tr>\n",
              "    <tr>\n",
              "      <th>1</th>\n",
              "      <td>96</td>\n",
              "    </tr>\n",
              "    <tr>\n",
              "      <th>2</th>\n",
              "      <td>96</td>\n",
              "    </tr>\n",
              "    <tr>\n",
              "      <th>3</th>\n",
              "      <td>95</td>\n",
              "    </tr>\n",
              "    <tr>\n",
              "      <th>4</th>\n",
              "      <td>94</td>\n",
              "    </tr>\n",
              "    <tr>\n",
              "      <th>...</th>\n",
              "      <td>...</td>\n",
              "    </tr>\n",
              "    <tr>\n",
              "      <th>16451</th>\n",
              "      <td>46</td>\n",
              "    </tr>\n",
              "    <tr>\n",
              "      <th>16452</th>\n",
              "      <td>46</td>\n",
              "    </tr>\n",
              "    <tr>\n",
              "      <th>16453</th>\n",
              "      <td>46</td>\n",
              "    </tr>\n",
              "    <tr>\n",
              "      <th>16454</th>\n",
              "      <td>46</td>\n",
              "    </tr>\n",
              "    <tr>\n",
              "      <th>16455</th>\n",
              "      <td>46</td>\n",
              "    </tr>\n",
              "  </tbody>\n",
              "</table>\n",
              "<p>16456 rows × 1 columns</p>\n",
              "</div>\n",
              "      <button class=\"colab-df-convert\" onclick=\"convertToInteractive('df-4f0dbce0-fd09-493d-8ef7-b1b74b73bdd7')\"\n",
              "              title=\"Convert this dataframe to an interactive table.\"\n",
              "              style=\"display:none;\">\n",
              "        \n",
              "  <svg xmlns=\"http://www.w3.org/2000/svg\" height=\"24px\"viewBox=\"0 0 24 24\"\n",
              "       width=\"24px\">\n",
              "    <path d=\"M0 0h24v24H0V0z\" fill=\"none\"/>\n",
              "    <path d=\"M18.56 5.44l.94 2.06.94-2.06 2.06-.94-2.06-.94-.94-2.06-.94 2.06-2.06.94zm-11 1L8.5 8.5l.94-2.06 2.06-.94-2.06-.94L8.5 2.5l-.94 2.06-2.06.94zm10 10l.94 2.06.94-2.06 2.06-.94-2.06-.94-.94-2.06-.94 2.06-2.06.94z\"/><path d=\"M17.41 7.96l-1.37-1.37c-.4-.4-.92-.59-1.43-.59-.52 0-1.04.2-1.43.59L10.3 9.45l-7.72 7.72c-.78.78-.78 2.05 0 2.83L4 21.41c.39.39.9.59 1.41.59.51 0 1.02-.2 1.41-.59l7.78-7.78 2.81-2.81c.8-.78.8-2.07 0-2.86zM5.41 20L4 18.59l7.72-7.72 1.47 1.35L5.41 20z\"/>\n",
              "  </svg>\n",
              "      </button>\n",
              "      \n",
              "  <style>\n",
              "    .colab-df-container {\n",
              "      display:flex;\n",
              "      flex-wrap:wrap;\n",
              "      gap: 12px;\n",
              "    }\n",
              "\n",
              "    .colab-df-convert {\n",
              "      background-color: #E8F0FE;\n",
              "      border: none;\n",
              "      border-radius: 50%;\n",
              "      cursor: pointer;\n",
              "      display: none;\n",
              "      fill: #1967D2;\n",
              "      height: 32px;\n",
              "      padding: 0 0 0 0;\n",
              "      width: 32px;\n",
              "    }\n",
              "\n",
              "    .colab-df-convert:hover {\n",
              "      background-color: #E2EBFA;\n",
              "      box-shadow: 0px 1px 2px rgba(60, 64, 67, 0.3), 0px 1px 3px 1px rgba(60, 64, 67, 0.15);\n",
              "      fill: #174EA6;\n",
              "    }\n",
              "\n",
              "    [theme=dark] .colab-df-convert {\n",
              "      background-color: #3B4455;\n",
              "      fill: #D2E3FC;\n",
              "    }\n",
              "\n",
              "    [theme=dark] .colab-df-convert:hover {\n",
              "      background-color: #434B5C;\n",
              "      box-shadow: 0px 1px 3px 1px rgba(0, 0, 0, 0.15);\n",
              "      filter: drop-shadow(0px 1px 2px rgba(0, 0, 0, 0.3));\n",
              "      fill: #FFFFFF;\n",
              "    }\n",
              "  </style>\n",
              "\n",
              "      <script>\n",
              "        const buttonEl =\n",
              "          document.querySelector('#df-4f0dbce0-fd09-493d-8ef7-b1b74b73bdd7 button.colab-df-convert');\n",
              "        buttonEl.style.display =\n",
              "          google.colab.kernel.accessAllowed ? 'block' : 'none';\n",
              "\n",
              "        async function convertToInteractive(key) {\n",
              "          const element = document.querySelector('#df-4f0dbce0-fd09-493d-8ef7-b1b74b73bdd7');\n",
              "          const dataTable =\n",
              "            await google.colab.kernel.invokeFunction('convertToInteractive',\n",
              "                                                     [key], {});\n",
              "          if (!dataTable) return;\n",
              "\n",
              "          const docLinkHtml = 'Like what you see? Visit the ' +\n",
              "            '<a target=\"_blank\" href=https://colab.research.google.com/notebooks/data_table.ipynb>data table notebook</a>'\n",
              "            + ' to learn more about interactive tables.';\n",
              "          element.innerHTML = '';\n",
              "          dataTable['output_type'] = 'display_data';\n",
              "          await google.colab.output.renderOutput(dataTable, element);\n",
              "          const docLink = document.createElement('div');\n",
              "          docLink.innerHTML = docLinkHtml;\n",
              "          element.appendChild(docLink);\n",
              "        }\n",
              "      </script>\n",
              "    </div>\n",
              "  </div>\n",
              "  "
            ]
          },
          "metadata": {},
          "execution_count": 256
        }
      ]
    },
    {
      "cell_type": "code",
      "source": [
        "# Создадим 100 пропусков\n",
        "\n",
        "missing_indexes = np.random.choice(df.shape[0], 100)\n",
        "df['val'][missing_indexes] = np.nan\n",
        "df['val'].isna().sum()"
      ],
      "metadata": {
        "colab": {
          "base_uri": "https://localhost:8080/"
        },
        "id": "SH-cHV1RSbk8",
        "outputId": "b8a123ef-9e75-4db1-9d51-6c5c6154b4df"
      },
      "execution_count": null,
      "outputs": [
        {
          "output_type": "execute_result",
          "data": {
            "text/plain": [
              "100"
            ]
          },
          "metadata": {},
          "execution_count": 257
        }
      ]
    },
    {
      "cell_type": "code",
      "source": [
        "# 1 способ - заполнить средним\n",
        "\n",
        "way_1 = df['val'].fillna(df['val'].mean())\n",
        "sns.histplot(way_1)\n",
        "print(f'RMSE : {np.sqrt(np.mean((way_1[missing_indexes] - mas[missing_indexes]) ** 2))}')"
      ],
      "metadata": {
        "colab": {
          "base_uri": "https://localhost:8080/",
          "height": 296
        },
        "id": "cy8NqigoTnG9",
        "outputId": "d3e9a382-f5d4-4c97-804a-d28fcae5a61d"
      },
      "execution_count": null,
      "outputs": [
        {
          "output_type": "stream",
          "name": "stdout",
          "text": [
            "RMSE : 7.579213486775615\n"
          ]
        },
        {
          "output_type": "display_data",
          "data": {
            "text/plain": [
              "<Figure size 432x288 with 1 Axes>"
            ],
            "image/png": "[encoded data removed]"
          },
          "metadata": {
            "needs_background": "light"
          }
        }
      ]
    },
    {
      "cell_type": "code",
      "source": [
        "# 2 способ - заполнить медианой\n",
        "\n",
        "way_2 = df['val'].fillna(df['val'].median())\n",
        "sns.histplot(way_2)\n",
        "print(f'RMSE : {np.sqrt(np.mean((way_2[missing_indexes] - mas[missing_indexes]) ** 2))}')"
      ],
      "metadata": {
        "colab": {
          "base_uri": "https://localhost:8080/",
          "height": 296
        },
        "id": "sxpQ9YkAU3P7",
        "outputId": "cfbb01ee-87fa-43cd-bb1e-2740dbf22ce7"
      },
      "execution_count": null,
      "outputs": [
        {
          "output_type": "stream",
          "name": "stdout",
          "text": [
            "RMSE : 7.708436936240706\n"
          ]
        },
        {
          "output_type": "display_data",
          "data": {
            "text/plain": [
              "<Figure size 432x288 with 1 Axes>"
            ],
            "image/png": "[encoded data removed]"
          },
          "metadata": {
            "needs_background": "light"
          }
        }
      ]
    },
    {
      "cell_type": "code",
      "source": [
        "# 3 способ - заполнить модой\n",
        "\n",
        "from scipy.stats import mode\n",
        "\n",
        "way_3 = df['val'].fillna(mode(df['val'], nan_policy='omit')[0][0])\n",
        "sns.histplot(way_3)\n",
        "print(f'RMSE : {np.sqrt(np.mean((way_3[missing_indexes] - mas[missing_indexes]) ** 2))}')"
      ],
      "metadata": {
        "colab": {
          "base_uri": "https://localhost:8080/",
          "height": 296
        },
        "id": "5Oyd-1rKVC43",
        "outputId": "fddde0ce-af12-4940-9beb-87dc6129ae71"
      },
      "execution_count": null,
      "outputs": [
        {
          "output_type": "stream",
          "name": "stdout",
          "text": [
            "RMSE : 7.577598564189053\n"
          ]
        },
        {
          "output_type": "display_data",
          "data": {
            "text/plain": [
              "<Figure size 432x288 with 1 Axes>"
            ],
            "image/png": "[encoded data removed]"
          },
          "metadata": {
            "needs_background": "light"
          }
        }
      ]
    },
    {
      "cell_type": "markdown",
      "source": [
        "Результат такой: заполнением средним или модой оказалось чуть удачнее, чем медианой. Но в целом для имеющихся данных (рейтинги в фифе) пропущенные значения заполнять средним оказывается, конечно, менее удачно, чем для чисто нормального распределения, потому что рейтинги отклоняются, и причём с перекосом в большую сторону"
      ],
      "metadata": {
        "id": "K-OpvbqfVYMq"
      }
    },
    {
      "cell_type": "markdown",
      "source": [
        "**5,6. Сгенерировать данные из нормального распределения с различными параметрами и провести анализ с помощью графиков эмпирических функций распределений, квантилей, метода огибающих, а также стандартных процедур проверки гипотез о нормальности (критерии Колмогорова-Смирнова, ШапироУилка, Андерсона-Дарлинга, Крамера фон Мизеса, Колмогорова-Смирнова в модификации Лиллиефорса и Шапиро-Франсия). Рассмотреть выборки малого (не более 50-100 элементов) и умеренного (1000-5000 наблюдений) объемов.** "
      ],
      "metadata": {
        "id": "4oJfy8DaWXfo"
      }
    },
    {
      "cell_type": "code",
      "source": [
        "from scipy.stats import kstest, shapiro, anderson, cramervonmises, norm\n",
        "from statsmodels.stats.diagnostic import lilliefors\n",
        "\n",
        "mu = 0\n",
        "sigma = 1\n",
        "\n",
        "data = norm.rvs(size=50)\n",
        "bigdata = norm.rvs(size=1000)"
      ],
      "metadata": {
        "id": "Tu4tzpG97Bgh"
      },
      "execution_count": null,
      "outputs": []
    },
    {
      "cell_type": "code",
      "source": [
        "# Анализ с помощью графиков эмпирических функций распределений\n",
        "\n",
        "x = np.linspace(mu - 3*sigma, mu + 3*sigma, 1000)\n",
        "y = norm.cdf(x)\n",
        "\n",
        "sns.ecdfplot(data)\n",
        "sns.lineplot(x,y)"
      ],
      "metadata": {
        "colab": {
          "base_uri": "https://localhost:8080/",
          "height": 356
        },
        "id": "3WwaA1cZ7PIO",
        "outputId": "b2bbbaea-490d-4efe-e4d9-c1115423fd67"
      },
      "execution_count": null,
      "outputs": [
        {
          "output_type": "stream",
          "name": "stderr",
          "text": [
            "/usr/local/lib/python3.7/dist-packages/seaborn/_decorators.py:43: FutureWarning:\n",
            "\n",
            "Pass the following variables as keyword args: x, y. From version 0.12, the only valid positional argument will be `data`, and passing other arguments without an explicit keyword will result in an error or misinterpretation.\n",
            "\n"
          ]
        },
        {
          "output_type": "execute_result",
          "data": {
            "text/plain": [
              "<matplotlib.axes._subplots.AxesSubplot at 0x7f837cd67590>"
            ]
          },
          "metadata": {},
          "execution_count": 262
        },
        {
          "output_type": "display_data",
          "data": {
            "text/plain": [
              "<Figure size 432x288 with 1 Axes>"
            ],
            "image/png": "[encoded data removed]"
          },
          "metadata": {
            "needs_background": "light"
          }
        }
      ]
    },
    {
      "cell_type": "code",
      "source": [
        "sns.ecdfplot(bigdata)\n",
        "sns.lineplot(x,y)"
      ],
      "metadata": {
        "colab": {
          "base_uri": "https://localhost:8080/",
          "height": 356
        },
        "id": "xbGi56yU83rA",
        "outputId": "d0b58ad6-ddfa-4ad2-c425-78d67d0202eb"
      },
      "execution_count": null,
      "outputs": [
        {
          "output_type": "stream",
          "name": "stderr",
          "text": [
            "/usr/local/lib/python3.7/dist-packages/seaborn/_decorators.py:43: FutureWarning:\n",
            "\n",
            "Pass the following variables as keyword args: x, y. From version 0.12, the only valid positional argument will be `data`, and passing other arguments without an explicit keyword will result in an error or misinterpretation.\n",
            "\n"
          ]
        },
        {
          "output_type": "execute_result",
          "data": {
            "text/plain": [
              "<matplotlib.axes._subplots.AxesSubplot at 0x7f837cf62d90>"
            ]
          },
          "metadata": {},
          "execution_count": 263
        },
        {
          "output_type": "display_data",
          "data": {
            "text/plain": [
              "<Figure size 432x288 with 1 Axes>"
            ],
            "image/png": "[encoded data removed]"
          },
          "metadata": {
            "needs_background": "light"
          }
        }
      ]
    },
    {
      "cell_type": "code",
      "source": [
        "# Анализ с помощью метода квантилей\n",
        "\n",
        "stats.probplot(data, dist=\"norm\", plot=plt)\n",
        "plt.show()"
      ],
      "metadata": {
        "colab": {
          "base_uri": "https://localhost:8080/",
          "height": 295
        },
        "id": "pCvGMjQW7f7M",
        "outputId": "d8c90727-e285-4389-b85a-d1fe23038dfb"
      },
      "execution_count": null,
      "outputs": [
        {
          "output_type": "display_data",
          "data": {
            "text/plain": [
              "<Figure size 432x288 with 1 Axes>"
            ],
            "image/png": "[encoded data removed]"
          },
          "metadata": {
            "needs_background": "light"
          }
        }
      ]
    },
    {
      "cell_type": "code",
      "source": [
        "stats.probplot(bigdata, dist=\"norm\", plot=plt)\n",
        "plt.show()"
      ],
      "metadata": {
        "colab": {
          "base_uri": "https://localhost:8080/",
          "height": 295
        },
        "id": "12CqV7e989aG",
        "outputId": "1b7f0142-7009-4b56-9b46-b5b6ea057ebb"
      },
      "execution_count": null,
      "outputs": [
        {
          "output_type": "display_data",
          "data": {
            "text/plain": [
              "<Figure size 432x288 with 1 Axes>"
            ],
            "image/png": "[encoded data removed]"
          },
          "metadata": {
            "needs_background": "light"
          }
        }
      ]
    },
    {
      "cell_type": "code",
      "source": [
        "# анализ при помощи метода огибающих\n",
        "def ma(Data, lookback):\n",
        "    m = np.zeros_like(Data)\n",
        "    for i in range(len(Data)):\n",
        "        real_lookback = lookback\n",
        "        if i < lookback:\n",
        "            real_lookback = i\n",
        "        m[i] = (Data[i - real_lookback : i + 1].mean())\n",
        "    return m\n",
        "\n",
        "def envelopes(Data, lookback, deviation):\n",
        "    m = ma(Data, lookback)\n",
        "    signs = np.sign(m)\n",
        "    a = m + np.abs((m * deviation))\n",
        "    b = m - np.abs((m * deviation))\n",
        "    return a, b\n",
        "\n",
        "data_sorted = np.array(sorted(data))\n",
        "numbers = [i[0] for i in enumerate(data_sorted)]\n",
        "a, b = envelopes(data_sorted, 3, 0.25)\n",
        "\n",
        "sns.lineplot(numbers, data_sorted)\n",
        "sns.lineplot(numbers, a)\n",
        "sns.lineplot(numbers, b)"
      ],
      "metadata": {
        "colab": {
          "base_uri": "https://localhost:8080/",
          "height": 491
        },
        "id": "s4uT5qZy7pv6",
        "outputId": "eb3588ba-a414-4720-994d-5a473e752195"
      },
      "execution_count": null,
      "outputs": [
        {
          "output_type": "stream",
          "name": "stderr",
          "text": [
            "/usr/local/lib/python3.7/dist-packages/seaborn/_decorators.py:43: FutureWarning:\n",
            "\n",
            "Pass the following variables as keyword args: x, y. From version 0.12, the only valid positional argument will be `data`, and passing other arguments without an explicit keyword will result in an error or misinterpretation.\n",
            "\n",
            "/usr/local/lib/python3.7/dist-packages/seaborn/_decorators.py:43: FutureWarning:\n",
            "\n",
            "Pass the following variables as keyword args: x, y. From version 0.12, the only valid positional argument will be `data`, and passing other arguments without an explicit keyword will result in an error or misinterpretation.\n",
            "\n",
            "/usr/local/lib/python3.7/dist-packages/seaborn/_decorators.py:43: FutureWarning:\n",
            "\n",
            "Pass the following variables as keyword args: x, y. From version 0.12, the only valid positional argument will be `data`, and passing other arguments without an explicit keyword will result in an error or misinterpretation.\n",
            "\n"
          ]
        },
        {
          "output_type": "execute_result",
          "data": {
            "text/plain": [
              "<matplotlib.axes._subplots.AxesSubplot at 0x7f837c08d110>"
            ]
          },
          "metadata": {},
          "execution_count": 266
        },
        {
          "output_type": "display_data",
          "data": {
            "text/plain": [
              "<Figure size 432x288 with 1 Axes>"
            ],
            "image/png": "[encoded data removed]"
          },
          "metadata": {
            "needs_background": "light"
          }
        }
      ]
    },
    {
      "cell_type": "code",
      "source": [
        "bigdata_sorted = np.array(sorted(bigdata))\n",
        "numbers = [i[0] for i in enumerate(bigdata_sorted)]\n",
        "a, b = envelopes(bigdata_sorted, 3, 0.25)\n",
        "\n",
        "sns.lineplot(numbers, bigdata_sorted)\n",
        "sns.lineplot(numbers, a)\n",
        "sns.lineplot(numbers, b)"
      ],
      "metadata": {
        "colab": {
          "base_uri": "https://localhost:8080/",
          "height": 491
        },
        "id": "UbRXXK5S9IlB",
        "outputId": "53a6c215-218f-4373-8b75-63f33f67e7e8"
      },
      "execution_count": null,
      "outputs": [
        {
          "output_type": "stream",
          "name": "stderr",
          "text": [
            "/usr/local/lib/python3.7/dist-packages/seaborn/_decorators.py:43: FutureWarning:\n",
            "\n",
            "Pass the following variables as keyword args: x, y. From version 0.12, the only valid positional argument will be `data`, and passing other arguments without an explicit keyword will result in an error or misinterpretation.\n",
            "\n",
            "/usr/local/lib/python3.7/dist-packages/seaborn/_decorators.py:43: FutureWarning:\n",
            "\n",
            "Pass the following variables as keyword args: x, y. From version 0.12, the only valid positional argument will be `data`, and passing other arguments without an explicit keyword will result in an error or misinterpretation.\n",
            "\n",
            "/usr/local/lib/python3.7/dist-packages/seaborn/_decorators.py:43: FutureWarning:\n",
            "\n",
            "Pass the following variables as keyword args: x, y. From version 0.12, the only valid positional argument will be `data`, and passing other arguments without an explicit keyword will result in an error or misinterpretation.\n",
            "\n"
          ]
        },
        {
          "output_type": "execute_result",
          "data": {
            "text/plain": [
              "<matplotlib.axes._subplots.AxesSubplot at 0x7f837c000810>"
            ]
          },
          "metadata": {},
          "execution_count": 267
        },
        {
          "output_type": "display_data",
          "data": {
            "text/plain": [
              "<Figure size 432x288 with 1 Axes>"
            ],
            "image/png": "[encoded data removed]"
          },
          "metadata": {
            "needs_background": "light"
          }
        }
      ]
    },
    {
      "cell_type": "code",
      "source": [
        "# Критерий Колмогорова-Смирнова\n",
        "\n",
        "kstest(data, stats.norm.cdf)"
      ],
      "metadata": {
        "colab": {
          "base_uri": "https://localhost:8080/"
        },
        "id": "8-qRX6es7vMV",
        "outputId": "16ce1cbd-60c0-42cb-9741-172dc3406077"
      },
      "execution_count": null,
      "outputs": [
        {
          "output_type": "execute_result",
          "data": {
            "text/plain": [
              "KstestResult(statistic=0.1182534563313744, pvalue=0.452124954534607)"
            ]
          },
          "metadata": {},
          "execution_count": 268
        }
      ]
    },
    {
      "cell_type": "code",
      "source": [
        "kstest(bigdata, stats.norm.cdf)"
      ],
      "metadata": {
        "colab": {
          "base_uri": "https://localhost:8080/"
        },
        "id": "YNnJyzev9Tru",
        "outputId": "40652489-2ddd-4c9e-8908-67e68ed1b239"
      },
      "execution_count": null,
      "outputs": [
        {
          "output_type": "execute_result",
          "data": {
            "text/plain": [
              "KstestResult(statistic=0.017591068420740652, pvalue=0.9108752732360061)"
            ]
          },
          "metadata": {},
          "execution_count": 269
        }
      ]
    },
    {
      "cell_type": "code",
      "source": [
        "#Критерий Шапиро-Уилка\n",
        "\n",
        "shapiro(data)"
      ],
      "metadata": {
        "colab": {
          "base_uri": "https://localhost:8080/"
        },
        "id": "JsuFTf6D8Oka",
        "outputId": "45e69fe3-892a-40cd-8147-9c636cfe9f9b"
      },
      "execution_count": null,
      "outputs": [
        {
          "output_type": "execute_result",
          "data": {
            "text/plain": [
              "ShapiroResult(statistic=0.9734483361244202, pvalue=0.3178648352622986)"
            ]
          },
          "metadata": {},
          "execution_count": 270
        }
      ]
    },
    {
      "cell_type": "code",
      "source": [
        "shapiro(bigdata)"
      ],
      "metadata": {
        "colab": {
          "base_uri": "https://localhost:8080/"
        },
        "id": "52d-r4Hs9Vwj",
        "outputId": "c9b6b39e-bd17-4a14-cba5-847d4058fedb"
      },
      "execution_count": null,
      "outputs": [
        {
          "output_type": "execute_result",
          "data": {
            "text/plain": [
              "ShapiroResult(statistic=0.998711884021759, pvalue=0.6965686678886414)"
            ]
          },
          "metadata": {},
          "execution_count": 271
        }
      ]
    },
    {
      "cell_type": "code",
      "source": [
        "# Критерий Андерсона-Дарлинга\n",
        "\n",
        "anderson(data)"
      ],
      "metadata": {
        "colab": {
          "base_uri": "https://localhost:8080/"
        },
        "id": "58kgucIB8Qu0",
        "outputId": "1eb95ae1-e338-418a-b283-94e62cede7d3"
      },
      "execution_count": null,
      "outputs": [
        {
          "output_type": "execute_result",
          "data": {
            "text/plain": [
              "AndersonResult(statistic=0.48929353581671364, critical_values=array([0.538, 0.613, 0.736, 0.858, 1.021]), significance_level=array([15. , 10. ,  5. ,  2.5,  1. ]))"
            ]
          },
          "metadata": {},
          "execution_count": 272
        }
      ]
    },
    {
      "cell_type": "code",
      "source": [
        "anderson(bigdata)"
      ],
      "metadata": {
        "colab": {
          "base_uri": "https://localhost:8080/"
        },
        "id": "d1EV6NbP9XYw",
        "outputId": "e8942d98-e8dc-42cb-b80a-0b1c351cf247"
      },
      "execution_count": null,
      "outputs": [
        {
          "output_type": "execute_result",
          "data": {
            "text/plain": [
              "AndersonResult(statistic=0.3156395027885992, critical_values=array([0.574, 0.653, 0.784, 0.914, 1.088]), significance_level=array([15. , 10. ,  5. ,  2.5,  1. ]))"
            ]
          },
          "metadata": {},
          "execution_count": 273
        }
      ]
    },
    {
      "cell_type": "code",
      "source": [
        "# Критерий Крамера фон Мизеса\n",
        "\n",
        "cramervonmises(data, stats.norm.cdf)"
      ],
      "metadata": {
        "colab": {
          "base_uri": "https://localhost:8080/"
        },
        "id": "PLqyH0Yb8Se0",
        "outputId": "ebfbfdff-586b-4ea5-8d9c-cd40940f03e6"
      },
      "execution_count": null,
      "outputs": [
        {
          "output_type": "execute_result",
          "data": {
            "text/plain": [
              "CramerVonMisesResult(statistic=0.14850186107932567, pvalue=0.39521412227918606)"
            ]
          },
          "metadata": {},
          "execution_count": 274
        }
      ]
    },
    {
      "cell_type": "code",
      "source": [
        "cramervonmises(bigdata, stats.norm.cdf)"
      ],
      "metadata": {
        "colab": {
          "base_uri": "https://localhost:8080/"
        },
        "id": "LDdHO-i-9Y0k",
        "outputId": "8c30dc0d-619d-4e53-877b-d470c82cc8db"
      },
      "execution_count": null,
      "outputs": [
        {
          "output_type": "execute_result",
          "data": {
            "text/plain": [
              "CramerVonMisesResult(statistic=0.03323597764488745, pvalue=0.9644324279823558)"
            ]
          },
          "metadata": {},
          "execution_count": 275
        }
      ]
    },
    {
      "cell_type": "code",
      "source": [
        "# Критерий Колмогорова-Смирнова в модификации Лиллиефорса\n",
        "\n",
        "lilliefors(data)"
      ],
      "metadata": {
        "colab": {
          "base_uri": "https://localhost:8080/"
        },
        "id": "0Iayw8kY8VQi",
        "outputId": "0d977b81-d8dd-4870-f4d5-572b68a68c25"
      },
      "execution_count": null,
      "outputs": [
        {
          "output_type": "execute_result",
          "data": {
            "text/plain": [
              "(0.10563615269909632, 0.18401346733433976)"
            ]
          },
          "metadata": {},
          "execution_count": 276
        }
      ]
    },
    {
      "cell_type": "code",
      "source": [
        "lilliefors(bigdata)"
      ],
      "metadata": {
        "colab": {
          "base_uri": "https://localhost:8080/"
        },
        "id": "D5TTkcWz9aKF",
        "outputId": "9d7ca3a4-7868-4e86-f8ca-70d5b6626b77"
      },
      "execution_count": null,
      "outputs": [
        {
          "output_type": "execute_result",
          "data": {
            "text/plain": [
              "(0.019103921713315986, 0.5836616908823125)"
            ]
          },
          "metadata": {},
          "execution_count": 277
        }
      ]
    },
    {
      "cell_type": "markdown",
      "source": [
        "**7. Продемонстрировать применение для проверки различных гипотез и различных доверительных уровней (0.9, 0.95, 0.99) следующих критериев:**\n",
        "\n",
        "**Стьюдента, включая односторонние варианты, когда проверяемая нулевая гипотеза заключается в том, что одно из сравниваемых средних значений больше (или меньше) другого. Реализовать оценку мощности критериев при заданном объеме выборки или определения объема выборки для достижения заданной мощности.**\n"
      ],
      "metadata": {
        "id": "dHnKXl-EaEu3"
      }
    },
    {
      "cell_type": "markdown",
      "source": [
        "Возьмём снова рейтинги футболистов в качестве первого распределения.\n",
        "\n",
        "А в качестве второго возьмём среднее показателей на их карточках в фифе: скорость, удар, пас, дриблинг, защита, физические данные.\n",
        "\n",
        "Давайте проверим такую гипотезу: средние этих распределений совпадают."
      ],
      "metadata": {
        "id": "37M6cqsMcLTv"
      }
    },
    {
      "cell_type": "code",
      "source": [
        "# Student's t-test\n",
        " \n",
        "from numpy.random import randn\n",
        "from scipy.stats import ttest_ind\n",
        "data1 = fifa['Ratings'] \n",
        "data2 = (fifa['PAC'] + fifa['SHO'] + fifa['PAS'] + fifa['DRI'] + fifa['DEF'] + fifa['PHY']) / 6"
      ],
      "metadata": {
        "id": "s9OUGYi8aGLA"
      },
      "execution_count": null,
      "outputs": []
    },
    {
      "cell_type": "code",
      "source": [
        "# Двусторонний\n",
        "# Гипотеза H₀: Средние двух выборок равны, альтернативная гипотеза - не равны\n",
        "stat, p = ttest_ind(data1, data2)\n",
        "for alpha in {0.01, 0.05, 0.1}:\n",
        "  if p > alpha:\n",
        "    print('При alpha = ', alpha, 'принять H₀')\n",
        "  else:\n",
        "    print('При alpha = ', alpha, 'Отклонить H₀')"
      ],
      "metadata": {
        "colab": {
          "base_uri": "https://localhost:8080/"
        },
        "id": "0PlGAXe0a1aA",
        "outputId": "d5b00165-3d37-41b2-e5bc-fab0c30057de"
      },
      "execution_count": null,
      "outputs": [
        {
          "output_type": "stream",
          "name": "stdout",
          "text": [
            "При alpha =  0.05 Отклонить H₀\n",
            "При alpha =  0.1 Отклонить H₀\n",
            "При alpha =  0.01 Отклонить H₀\n"
          ]
        }
      ]
    },
    {
      "cell_type": "code",
      "source": [
        "# Меньше\n",
        "# Гипотеза H₀: Среднее первой выборки больше, альтернативная гипотеза - меньше\n",
        "stat, p = ttest_ind(data1, data2, alternative = 'less')\n",
        "for alpha in {0.01, 0.05, 0.1}:\n",
        "  if p > alpha:\n",
        "    print('При alpha = ', alpha, 'принять H₀')\n",
        "  else:\n",
        "    print('При alpha = ', alpha, 'Отклонить H₀')"
      ],
      "metadata": {
        "colab": {
          "base_uri": "https://localhost:8080/"
        },
        "id": "0uDWNx07a1r5",
        "outputId": "3158499e-6694-4fab-f90f-d2e57b3c612d"
      },
      "execution_count": null,
      "outputs": [
        {
          "output_type": "stream",
          "name": "stdout",
          "text": [
            "При alpha =  0.05 принять H₀\n",
            "При alpha =  0.1 принять H₀\n",
            "При alpha =  0.01 принять H₀\n"
          ]
        }
      ]
    },
    {
      "cell_type": "code",
      "source": [
        "# Больше\n",
        "# Гипотеза H₀: Среднее первой выборки меньше, альтернативная гипотеза - больше\n",
        "stat, p = ttest_ind(data1, data2, alternative = 'greater')\n",
        "alpha = 0.05\n",
        "for alpha in {0.01, 0.05, 0.1}:\n",
        "  if p > alpha:\n",
        "    print('При alpha = ', alpha, 'принять H₀')\n",
        "  else:\n",
        "    print('При alpha = ', alpha, 'Отклонить H₀')"
      ],
      "metadata": {
        "colab": {
          "base_uri": "https://localhost:8080/"
        },
        "id": "dhiC9JSla7R4",
        "outputId": "a8c6c48e-e126-4292-dcb9-3fca70adf16f"
      },
      "execution_count": null,
      "outputs": [
        {
          "output_type": "stream",
          "name": "stdout",
          "text": [
            "При alpha =  0.05 Отклонить H₀\n",
            "При alpha =  0.1 Отклонить H₀\n",
            "При alpha =  0.01 Отклонить H₀\n"
          ]
        }
      ]
    },
    {
      "cell_type": "code",
      "source": [
        "# Мощность\n",
        "import statsmodels.stats.power as smp\n",
        "print(smp.ttest_power(0.8, nobs=20, alpha=0.05, alternative='larger'))"
      ],
      "metadata": {
        "colab": {
          "base_uri": "https://localhost:8080/"
        },
        "id": "1qHee_wca_jj",
        "outputId": "68a4983a-6dbb-493d-f901-7f0e8ceac4d2"
      },
      "execution_count": null,
      "outputs": [
        {
          "output_type": "stream",
          "name": "stdout",
          "text": [
            "0.9641727854966735\n"
          ]
        }
      ]
    },
    {
      "cell_type": "markdown",
      "source": [
        "По критерию Стьюдента гипотеза верна о том, что в среднем рейтинг равен среднему показателей, верна. Хотя для конкретно взято игрока это часто оказывается не так - влияют ещё факторы сравнения с другими и разные коммерческие причины у EA Sports..."
      ],
      "metadata": {
        "id": "EPR9yk0scqby"
      }
    },
    {
      "cell_type": "markdown",
      "source": [
        "**Уилкоксона-Манна-Уитни (ранговые)**"
      ],
      "metadata": {
        "id": "uh0ZzZom9rwl"
      }
    },
    {
      "cell_type": "markdown",
      "source": [
        "Тест Уилкоксона идеально подходит для сравнения маленьких выборок зависимых, где количество испытуемых/исследований больше 5, но меньше 50.\n"
      ],
      "metadata": {
        "id": "b3Sx12qNZSgs"
      }
    },
    {
      "cell_type": "code",
      "source": [
        "#Критерий знакового ранга Уилкоксона — это непараметрическая версия t-критерия для парных выборок .\n",
        "\n",
        "#Он используется для проверки наличия значительной разницы между двумя средними значениями генеральной совокупности, \n",
        "#когда распределение различий между двумя выборками нельзя считать нормальным.\n",
        "\n",
        "stats.wilcoxon(data1[0:5], data2[0:5])"
      ],
      "metadata": {
        "id": "ggxGpYff9wUw",
        "colab": {
          "base_uri": "https://localhost:8080/"
        },
        "outputId": "99d84963-bca1-4ba6-9fb6-26291ae85bdf"
      },
      "execution_count": null,
      "outputs": [
        {
          "output_type": "execute_result",
          "data": {
            "text/plain": [
              "WilcoxonResult(statistic=0.0, pvalue=0.0625)"
            ]
          },
          "metadata": {},
          "execution_count": 283
        }
      ]
    },
    {
      "cell_type": "code",
      "source": [
        "stats.wilcoxon(data1[0:50], data2[0:50])"
      ],
      "metadata": {
        "colab": {
          "base_uri": "https://localhost:8080/"
        },
        "id": "X04l0uy-YrKE",
        "outputId": "8e390e8d-e74e-40ee-d6b8-25ed30b4aad9"
      },
      "execution_count": null,
      "outputs": [
        {
          "output_type": "execute_result",
          "data": {
            "text/plain": [
              "WilcoxonResult(statistic=0.0, pvalue=7.526228061894621e-10)"
            ]
          },
          "metadata": {},
          "execution_count": 284
        }
      ]
    },
    {
      "cell_type": "markdown",
      "source": [
        "Опять же подтверждение того, что для, скажем, пяти лучших игроков, средние значения рейтинги и усреднённого значения показателей, не равны (показатель pvalue больше 0.05), а вот для всей выборки уже почти наверняка (pvalue в районе нуля с погрешностью порядка 10 в -7 степени) равны"
      ],
      "metadata": {
        "id": "ecE6aMDYY02A"
      }
    },
    {
      "cell_type": "markdown",
      "source": [
        "Тест Манна-Уитни используется при сравнении двух независимых выборок, также имеющих отклонения от нормального распределения."
      ],
      "metadata": {
        "id": "Zgr3ObReZiq5"
      }
    },
    {
      "cell_type": "code",
      "source": [
        "#U- критерий Манна-Уитни используется для сравнения различий между двумя выборками\n",
        "#когда распределение выборки не является нормальным, а размеры выборки малы (n < 30).\n",
        "\n",
        "stats. mannwhitneyu (data1[0:20] / data1[0:20].mean(), \n",
        "                     fifa['Popularity'][0:20] / fifa['Popularity'][0:20].mean(), \n",
        "                     alternative='two-sided')"
      ],
      "metadata": {
        "colab": {
          "base_uri": "https://localhost:8080/"
        },
        "id": "ZkaPHqlxZQ9d",
        "outputId": "819ce1f8-12d2-40d8-8f7c-0bea0b8081d8"
      },
      "execution_count": null,
      "outputs": [
        {
          "output_type": "execute_result",
          "data": {
            "text/plain": [
              "MannwhitneyuResult(statistic=260.0, pvalue=0.10458704471639454)"
            ]
          },
          "metadata": {},
          "execution_count": 285
        }
      ]
    },
    {
      "cell_type": "markdown",
      "source": [
        "Из независимых грубо говоря с натяжкой можно взять рейтинги и популярность игроков. Получили значение pvalue в районе 10%, то есть уровень значимости в 5% гипотеза о равенстве не проходит."
      ],
      "metadata": {
        "id": "8XIFXxpAZ_zc"
      }
    },
    {
      "cell_type": "markdown",
      "source": [
        "**Фишера, Левене, Бартлетта, Флигнера-Килина (проверка гипотез об однородности дисперсий).**"
      ],
      "metadata": {
        "id": "Mqy-7BmFarcz"
      }
    },
    {
      "cell_type": "code",
      "source": [
        "def trash(sample_1, sample_2):\n",
        "    f = np.var(sample_1, ddof=1)/np.var(sample_2, ddof=1)\n",
        "    x = np.array(sample_1)\n",
        "    y = np.array(sample_2)\n",
        "    p_value = 1-stats.f.cdf(f, x.size-1, y.size-1)\n",
        "    \n",
        "    print('c) Тест Фишера:\\n\\tStatistics=%.3f, p=%.3f' % (f, p_value))\n",
        "    alpha = 0.05\n",
        "    if p_value > alpha:\n",
        "        print('\\tSame distribution (fail to reject H0)')\n",
        "    else:\n",
        "        print('\\tDifferent distribution (reject H0)')\n",
        "        \n",
        "    stat, p = stats.levene(sample_1, sample_2, center = 'mean')\n",
        "    print('   Тест Левене:\\n\\tStatistics=%.3f, p=%.3f' % (stat, p))\n",
        "    alpha = 0.05\n",
        "    if p > alpha:\n",
        "        print('\\tSame distribution (fail to reject H0)')\n",
        "    else:\n",
        "        print('\\tDifferent distribution (reject H0)')\n",
        "        \n",
        "    stat, p = stats.bartlett(sample_1, sample_2)\n",
        "    print('   Тест Бартлета:\\n\\tStatistics=%.3f, p=%.3f' % (stat, p))\n",
        "    alpha = 0.05\n",
        "    if p > alpha:\n",
        "        print('\\tSame distribution (fail to reject H0)')\n",
        "    else:\n",
        "        print('\\tDifferent distribution (reject H0)')\n",
        "        \n",
        "    stat, p = stats.fligner(sample_1, sample_2, center = 'mean')\n",
        "    print('   Тест Флигнера-Килина:\\n\\tStatistics=%.3f, p=%.3f' % (stat, p))\n",
        "    alpha = 0.05\n",
        "    if p > alpha:\n",
        "        print('\\tSame distribution (fail to reject H0)')\n",
        "    else:\n",
        "        print('\\tDifferent distribution (reject H0)')"
      ],
      "metadata": {
        "id": "sZrdm3vfawJz"
      },
      "execution_count": null,
      "outputs": []
    },
    {
      "cell_type": "code",
      "source": [
        "trash(data1, data2)"
      ],
      "metadata": {
        "colab": {
          "base_uri": "https://localhost:8080/"
        },
        "id": "cKA_qDD0a6Th",
        "outputId": "41029bb2-def8-4a8a-802d-922fd8e3d077"
      },
      "execution_count": null,
      "outputs": [
        {
          "output_type": "stream",
          "name": "stdout",
          "text": [
            "c) Тест Фишера:\n",
            "\tStatistics=1.140, p=0.000\n",
            "\tDifferent distribution (reject H0)\n",
            "   Тест Левене:\n",
            "\tStatistics=11.309, p=0.001\n",
            "\tDifferent distribution (reject H0)\n",
            "   Тест Бартлета:\n",
            "\tStatistics=70.913, p=0.000\n",
            "\tDifferent distribution (reject H0)\n",
            "   Тест Флигнера-Килина:\n",
            "\tStatistics=6.936, p=0.008\n",
            "\tDifferent distribution (reject H0)\n"
          ]
        }
      ]
    },
    {
      "cell_type": "code",
      "source": [
        "trash(data1 / data1.mean(), \n",
        "                     fifa['Popularity'] / fifa['Popularity'].mean())"
      ],
      "metadata": {
        "colab": {
          "base_uri": "https://localhost:8080/"
        },
        "id": "8qHkRL_VbSic",
        "outputId": "eb328ca7-d749-4e7a-a4c6-e535d8c0c473"
      },
      "execution_count": null,
      "outputs": [
        {
          "output_type": "stream",
          "name": "stdout",
          "text": [
            "c) Тест Фишера:\n",
            "\tStatistics=0.000, p=1.000\n",
            "\tSame distribution (fail to reject H0)\n",
            "   Тест Левене:\n",
            "\tStatistics=1157.963, p=0.000\n",
            "\tDifferent distribution (reject H0)\n",
            "   Тест Бартлета:\n",
            "\tStatistics=111771.535, p=0.000\n",
            "\tDifferent distribution (reject H0)\n",
            "   Тест Флигнера-Килина:\n",
            "\tStatistics=20485.073, p=0.000\n",
            "\tDifferent distribution (reject H0)\n"
          ]
        }
      ]
    },
    {
      "cell_type": "markdown",
      "source": [
        "Различия возникли только в тесте Фишера"
      ],
      "metadata": {
        "id": "t72nKZ_gbfvm"
      }
    },
    {
      "cell_type": "markdown",
      "source": [
        "**8.Исследовать корреляционные взаимосвязи в данных с помощью\n",
        "коэффициентов корреляции Пирсона, Спирмена и Кендалла.**"
      ],
      "metadata": {
        "id": "WkF_1SDRbmCu"
      }
    },
    {
      "cell_type": "code",
      "source": [
        " np.corrcoef(data1, data2)"
      ],
      "metadata": {
        "colab": {
          "base_uri": "https://localhost:8080/"
        },
        "id": "F0k8XERXbnBF",
        "outputId": "0124ff54-553a-44d0-c9fb-2a37d668c14f"
      },
      "execution_count": null,
      "outputs": [
        {
          "output_type": "execute_result",
          "data": {
            "text/plain": [
              "array([[1.        , 0.86892282],\n",
              "       [0.86892282, 1.        ]])"
            ]
          },
          "metadata": {},
          "execution_count": 289
        }
      ]
    },
    {
      "cell_type": "code",
      "source": [
        "print(np.corrcoef(fifa['PAC'], fifa['DRI'])[0][1])"
      ],
      "metadata": {
        "colab": {
          "base_uri": "https://localhost:8080/"
        },
        "id": "wS9Fp0zP3JSd",
        "outputId": "2e964697-6bc1-4ad7-e224-2a028e6aead3"
      },
      "execution_count": null,
      "outputs": [
        {
          "output_type": "stream",
          "name": "stdout",
          "text": [
            "0.5486414446769278\n"
          ]
        }
      ]
    },
    {
      "cell_type": "code",
      "source": [
        "coef, p = scipy.stats.spearmanr(data1, data2)\n",
        "print(coef)\n",
        "coef, p = scipy.stats.kendalltau(data1, data2)\n",
        "print(coef)\n"
      ],
      "metadata": {
        "colab": {
          "base_uri": "https://localhost:8080/"
        },
        "id": "oOKcXcDdcN5T",
        "outputId": "59491532-fc1d-4c6a-d1b9-7a952079b2d9"
      },
      "execution_count": null,
      "outputs": [
        {
          "output_type": "stream",
          "name": "stdout",
          "text": [
            "0.8338241281337987 0.0\n",
            "0.6687050115075446 0.0\n"
          ]
        }
      ]
    },
    {
      "cell_type": "code",
      "source": [
        "coef, p = scipy.stats.spearmanr(fifa['PAC'], fifa['DRI'])\n",
        "print(coef)\n",
        "coef, p = scipy.stats.kendalltau(fifa['PAC'], fifa['DRI'])\n",
        "print(coef)"
      ],
      "metadata": {
        "colab": {
          "base_uri": "https://localhost:8080/"
        },
        "id": "48Z7HAzb2ip1",
        "outputId": "97195bd6-079b-4779-ce95-06fc2b41e870"
      },
      "execution_count": null,
      "outputs": [
        {
          "output_type": "stream",
          "name": "stdout",
          "text": [
            "0.5419506742627955 0.0\n",
            "0.391192783901761 0.0\n"
          ]
        }
      ]
    },
    {
      "cell_type": "markdown",
      "source": [
        "**9. Продемонстрировать использование методов хи-квадрат, точного теста Фишера, теста МакНемара, Кохрана-Мантеля-Хензеля.**"
      ],
      "metadata": {
        "id": "MngFu-ahc1Wz"
      }
    },
    {
      "cell_type": "code",
      "source": [
        "#метод хи-квадрат\n",
        "contigency = pd.crosstab(fifa['Ratings'][0:30], fifa['Country'][0:30])\n",
        "contigency"
      ],
      "metadata": {
        "colab": {
          "base_uri": "https://localhost:8080/"
        },
        "id": "gm8xjQ16dSXC",
        "outputId": "53643105-ffb0-4a16-8936-107726219c85"
      },
      "execution_count": null,
      "outputs": [
        {
          "output_type": "execute_result",
          "data": {
            "text/plain": [
              "Country  Brazil  England  France  Germany  Hungary  Italy  Netherlands  \\\n",
              "Ratings                                                                  \n",
              "92            0        2       0        0        0      3            0   \n",
              "93            1        0       2        1        0      2            2   \n",
              "94            3        0       1        1        1      1            1   \n",
              "95            1        0       0        0        0      0            0   \n",
              "96            1        0       1        0        0      0            0   \n",
              "98            1        0       0        0        0      0            0   \n",
              "\n",
              "Country  Northern Ireland  Portugal  Russia  Spain  \n",
              "Ratings                                             \n",
              "92                      0         0       0      1  \n",
              "93                      1         1       0      1  \n",
              "94                      0         0       1      0  \n",
              "95                      0         0       0      0  \n",
              "96                      0         0       0      0  \n",
              "98                      0         0       0      0  "
            ],
            "text/html": [
              "\n",
              "  <div id=\"df-29cc2916-93f8-438f-8b5b-a2c5c7d5541a\">\n",
              "    <div class=\"colab-df-container\">\n",
              "      <div>\n",
              "<style scoped>\n",
              "    .dataframe tbody tr th:only-of-type {\n",
              "        vertical-align: middle;\n",
              "    }\n",
              "\n",
              "    .dataframe tbody tr th {\n",
              "        vertical-align: top;\n",
              "    }\n",
              "\n",
              "    .dataframe thead th {\n",
              "        text-align: right;\n",
              "    }\n",
              "</style>\n",
              "<table border=\"1\" class=\"dataframe\">\n",
              "  <thead>\n",
              "    <tr style=\"text-align: right;\">\n",
              "      <th>Country</th>\n",
              "      <th>Brazil</th>\n",
              "      <th>England</th>\n",
              "      <th>France</th>\n",
              "      <th>Germany</th>\n",
              "      <th>Hungary</th>\n",
              "      <th>Italy</th>\n",
              "      <th>Netherlands</th>\n",
              "      <th>Northern Ireland</th>\n",
              "      <th>Portugal</th>\n",
              "      <th>Russia</th>\n",
              "      <th>Spain</th>\n",
              "    </tr>\n",
              "    <tr>\n",
              "      <th>Ratings</th>\n",
              "      <th></th>\n",
              "      <th></th>\n",
              "      <th></th>\n",
              "      <th></th>\n",
              "      <th></th>\n",
              "      <th></th>\n",
              "      <th></th>\n",
              "      <th></th>\n",
              "      <th></th>\n",
              "      <th></th>\n",
              "      <th></th>\n",
              "    </tr>\n",
              "  </thead>\n",
              "  <tbody>\n",
              "    <tr>\n",
              "      <th>92</th>\n",
              "      <td>0</td>\n",
              "      <td>2</td>\n",
              "      <td>0</td>\n",
              "      <td>0</td>\n",
              "      <td>0</td>\n",
              "      <td>3</td>\n",
              "      <td>0</td>\n",
              "      <td>0</td>\n",
              "      <td>0</td>\n",
              "      <td>0</td>\n",
              "      <td>1</td>\n",
              "    </tr>\n",
              "    <tr>\n",
              "      <th>93</th>\n",
              "      <td>1</td>\n",
              "      <td>0</td>\n",
              "      <td>2</td>\n",
              "      <td>1</td>\n",
              "      <td>0</td>\n",
              "      <td>2</td>\n",
              "      <td>2</td>\n",
              "      <td>1</td>\n",
              "      <td>1</td>\n",
              "      <td>0</td>\n",
              "      <td>1</td>\n",
              "    </tr>\n",
              "    <tr>\n",
              "      <th>94</th>\n",
              "      <td>3</td>\n",
              "      <td>0</td>\n",
              "      <td>1</td>\n",
              "      <td>1</td>\n",
              "      <td>1</td>\n",
              "      <td>1</td>\n",
              "      <td>1</td>\n",
              "      <td>0</td>\n",
              "      <td>0</td>\n",
              "      <td>1</td>\n",
              "      <td>0</td>\n",
              "    </tr>\n",
              "    <tr>\n",
              "      <th>95</th>\n",
              "      <td>1</td>\n",
              "      <td>0</td>\n",
              "      <td>0</td>\n",
              "      <td>0</td>\n",
              "      <td>0</td>\n",
              "      <td>0</td>\n",
              "      <td>0</td>\n",
              "      <td>0</td>\n",
              "      <td>0</td>\n",
              "      <td>0</td>\n",
              "      <td>0</td>\n",
              "    </tr>\n",
              "    <tr>\n",
              "      <th>96</th>\n",
              "      <td>1</td>\n",
              "      <td>0</td>\n",
              "      <td>1</td>\n",
              "      <td>0</td>\n",
              "      <td>0</td>\n",
              "      <td>0</td>\n",
              "      <td>0</td>\n",
              "      <td>0</td>\n",
              "      <td>0</td>\n",
              "      <td>0</td>\n",
              "      <td>0</td>\n",
              "    </tr>\n",
              "    <tr>\n",
              "      <th>98</th>\n",
              "      <td>1</td>\n",
              "      <td>0</td>\n",
              "      <td>0</td>\n",
              "      <td>0</td>\n",
              "      <td>0</td>\n",
              "      <td>0</td>\n",
              "      <td>0</td>\n",
              "      <td>0</td>\n",
              "      <td>0</td>\n",
              "      <td>0</td>\n",
              "      <td>0</td>\n",
              "    </tr>\n",
              "  </tbody>\n",
              "</table>\n",
              "</div>\n",
              "      <button class=\"colab-df-convert\" onclick=\"convertToInteractive('df-29cc2916-93f8-438f-8b5b-a2c5c7d5541a')\"\n",
              "              title=\"Convert this dataframe to an interactive table.\"\n",
              "              style=\"display:none;\">\n",
              "        \n",
              "  <svg xmlns=\"http://www.w3.org/2000/svg\" height=\"24px\"viewBox=\"0 0 24 24\"\n",
              "       width=\"24px\">\n",
              "    <path d=\"M0 0h24v24H0V0z\" fill=\"none\"/>\n",
              "    <path d=\"M18.56 5.44l.94 2.06.94-2.06 2.06-.94-2.06-.94-.94-2.06-.94 2.06-2.06.94zm-11 1L8.5 8.5l.94-2.06 2.06-.94-2.06-.94L8.5 2.5l-.94 2.06-2.06.94zm10 10l.94 2.06.94-2.06 2.06-.94-2.06-.94-.94-2.06-.94 2.06-2.06.94z\"/><path d=\"M17.41 7.96l-1.37-1.37c-.4-.4-.92-.59-1.43-.59-.52 0-1.04.2-1.43.59L10.3 9.45l-7.72 7.72c-.78.78-.78 2.05 0 2.83L4 21.41c.39.39.9.59 1.41.59.51 0 1.02-.2 1.41-.59l7.78-7.78 2.81-2.81c.8-.78.8-2.07 0-2.86zM5.41 20L4 18.59l7.72-7.72 1.47 1.35L5.41 20z\"/>\n",
              "  </svg>\n",
              "      </button>\n",
              "      \n",
              "  <style>\n",
              "    .colab-df-container {\n",
              "      display:flex;\n",
              "      flex-wrap:wrap;\n",
              "      gap: 12px;\n",
              "    }\n",
              "\n",
              "    .colab-df-convert {\n",
              "      background-color: #E8F0FE;\n",
              "      border: none;\n",
              "      border-radius: 50%;\n",
              "      cursor: pointer;\n",
              "      display: none;\n",
              "      fill: #1967D2;\n",
              "      height: 32px;\n",
              "      padding: 0 0 0 0;\n",
              "      width: 32px;\n",
              "    }\n",
              "\n",
              "    .colab-df-convert:hover {\n",
              "      background-color: #E2EBFA;\n",
              "      box-shadow: 0px 1px 2px rgba(60, 64, 67, 0.3), 0px 1px 3px 1px rgba(60, 64, 67, 0.15);\n",
              "      fill: #174EA6;\n",
              "    }\n",
              "\n",
              "    [theme=dark] .colab-df-convert {\n",
              "      background-color: #3B4455;\n",
              "      fill: #D2E3FC;\n",
              "    }\n",
              "\n",
              "    [theme=dark] .colab-df-convert:hover {\n",
              "      background-color: #434B5C;\n",
              "      box-shadow: 0px 1px 3px 1px rgba(0, 0, 0, 0.15);\n",
              "      filter: drop-shadow(0px 1px 2px rgba(0, 0, 0, 0.3));\n",
              "      fill: #FFFFFF;\n",
              "    }\n",
              "  </style>\n",
              "\n",
              "      <script>\n",
              "        const buttonEl =\n",
              "          document.querySelector('#df-29cc2916-93f8-438f-8b5b-a2c5c7d5541a button.colab-df-convert');\n",
              "        buttonEl.style.display =\n",
              "          google.colab.kernel.accessAllowed ? 'block' : 'none';\n",
              "\n",
              "        async function convertToInteractive(key) {\n",
              "          const element = document.querySelector('#df-29cc2916-93f8-438f-8b5b-a2c5c7d5541a');\n",
              "          const dataTable =\n",
              "            await google.colab.kernel.invokeFunction('convertToInteractive',\n",
              "                                                     [key], {});\n",
              "          if (!dataTable) return;\n",
              "\n",
              "          const docLinkHtml = 'Like what you see? Visit the ' +\n",
              "            '<a target=\"_blank\" href=https://colab.research.google.com/notebooks/data_table.ipynb>data table notebook</a>'\n",
              "            + ' to learn more about interactive tables.';\n",
              "          element.innerHTML = '';\n",
              "          dataTable['output_type'] = 'display_data';\n",
              "          await google.colab.output.renderOutput(dataTable, element);\n",
              "          const docLink = document.createElement('div');\n",
              "          docLink.innerHTML = docLinkHtml;\n",
              "          element.appendChild(docLink);\n",
              "        }\n",
              "      </script>\n",
              "    </div>\n",
              "  </div>\n",
              "  "
            ]
          },
          "metadata": {},
          "execution_count": 291
        }
      ]
    },
    {
      "cell_type": "code",
      "source": [
        "from scipy.stats import chi2_contingency\n",
        "c, p, dof, expected = chi2_contingency(contigency)\n",
        "p\n",
        "#dof - степень свободы, p - p-value"
      ],
      "metadata": {
        "colab": {
          "base_uri": "https://localhost:8080/"
        },
        "id": "Wkh63aPWd33U",
        "outputId": "62cf9800-c49d-4c21-ed74-bdf7917f9917"
      },
      "execution_count": null,
      "outputs": [
        {
          "output_type": "execute_result",
          "data": {
            "text/plain": [
              "0.9260554855167805"
            ]
          },
          "metadata": {},
          "execution_count": 292
        }
      ]
    },
    {
      "cell_type": "code",
      "source": [
        "#тест Фишера\n",
        "import scipy.stats as stats\n",
        "contigency = pd.crosstab(fifa['Popularity'][0:2], fifa['Ratings'][0:2])\n",
        "print(stats.fisher_exact(contigency))"
      ],
      "metadata": {
        "colab": {
          "base_uri": "https://localhost:8080/"
        },
        "id": "ivMhZfX5eMB1",
        "outputId": "d295b726-2be0-46ad-aeab-4f7d43f1c3b0"
      },
      "execution_count": null,
      "outputs": [
        {
          "output_type": "stream",
          "name": "stdout",
          "text": [
            "(0.0, 1.0)\n"
          ]
        }
      ]
    },
    {
      "cell_type": "code",
      "source": [
        "#тест Макнемара\n",
        "from statsmodels.stats.contingency_tables import mcnemar\n",
        "print(mcnemar(np.array(contigency), exact=False)) "
      ],
      "metadata": {
        "colab": {
          "base_uri": "https://localhost:8080/"
        },
        "id": "bESwJ57Xghfq",
        "outputId": "d57db6d9-60f2-4510-dfdc-6d3f41d11e87"
      },
      "execution_count": null,
      "outputs": [
        {
          "output_type": "stream",
          "name": "stdout",
          "text": [
            "pvalue      0.47950012218695337\n",
            "statistic   0.5\n"
          ]
        }
      ]
    },
    {
      "cell_type": "markdown",
      "source": [
        "**10.Проверить наличие мультиколлинеарности в данных с помощью\n",
        "корреляционной матрицы и фактора инфляции дисперсии.**"
      ],
      "metadata": {
        "id": "sULsdyZuhJmP"
      }
    },
    {
      "cell_type": "code",
      "source": [
        "data = fifa[['PAC', 'SHO', 'PAS', 'DRI']]"
      ],
      "metadata": {
        "id": "bXdIHvDKhOGJ"
      },
      "execution_count": null,
      "outputs": []
    },
    {
      "cell_type": "code",
      "source": [
        "corr = data.corr()\n",
        "corr.style.background_gradient(cmap='coolwarm')"
      ],
      "metadata": {
        "colab": {
          "base_uri": "https://localhost:8080/"
        },
        "id": "Tg2b97XXhaj_",
        "outputId": "2ebf2ffc-6491-4e70-af2f-6134939c0796"
      },
      "execution_count": null,
      "outputs": [
        {
          "output_type": "execute_result",
          "data": {
            "text/plain": [
              "<pandas.io.formats.style.Styler at 0x7f837bf8d1d0>"
            ],
            "text/html": [
              "<style type=\"text/css\">\n",
              "#T_45122_row0_col0, #T_45122_row1_col1, #T_45122_row2_col2, #T_45122_row3_col3 {\n",
              "  background-color: #b40426;\n",
              "  color: #f1f1f1;\n",
              "}\n",
              "#T_45122_row0_col1, #T_45122_row0_col2, #T_45122_row0_col3, #T_45122_row2_col0 {\n",
              "  background-color: #3b4cc0;\n",
              "  color: #f1f1f1;\n",
              "}\n",
              "#T_45122_row1_col0 {\n",
              "  background-color: #4e68d8;\n",
              "  color: #f1f1f1;\n",
              "}\n",
              "#T_45122_row1_col2 {\n",
              "  background-color: #edd1c2;\n",
              "  color: #000000;\n",
              "}\n",
              "#T_45122_row1_col3 {\n",
              "  background-color: #ead5c9;\n",
              "  color: #000000;\n",
              "}\n",
              "#T_45122_row2_col1 {\n",
              "  background-color: #e7d7ce;\n",
              "  color: #000000;\n",
              "}\n",
              "#T_45122_row2_col3 {\n",
              "  background-color: #f7ad90;\n",
              "  color: #000000;\n",
              "}\n",
              "#T_45122_row3_col0 {\n",
              "  background-color: #a9c6fd;\n",
              "  color: #000000;\n",
              "}\n",
              "#T_45122_row3_col1 {\n",
              "  background-color: #f7b396;\n",
              "  color: #000000;\n",
              "}\n",
              "#T_45122_row3_col2 {\n",
              "  background-color: #ee8468;\n",
              "  color: #f1f1f1;\n",
              "}\n",
              "</style>\n",
              "<table id=\"T_45122_\" class=\"dataframe\">\n",
              "  <thead>\n",
              "    <tr>\n",
              "      <th class=\"blank level0\" >&nbsp;</th>\n",
              "      <th class=\"col_heading level0 col0\" >PAC</th>\n",
              "      <th class=\"col_heading level0 col1\" >SHO</th>\n",
              "      <th class=\"col_heading level0 col2\" >PAS</th>\n",
              "      <th class=\"col_heading level0 col3\" >DRI</th>\n",
              "    </tr>\n",
              "  </thead>\n",
              "  <tbody>\n",
              "    <tr>\n",
              "      <th id=\"T_45122_level0_row0\" class=\"row_heading level0 row0\" >PAC</th>\n",
              "      <td id=\"T_45122_row0_col0\" class=\"data row0 col0\" >1.000000</td>\n",
              "      <td id=\"T_45122_row0_col1\" class=\"data row0 col1\" >0.370084</td>\n",
              "      <td id=\"T_45122_row0_col2\" class=\"data row0 col2\" >0.325883</td>\n",
              "      <td id=\"T_45122_row0_col3\" class=\"data row0 col3\" >0.548641</td>\n",
              "    </tr>\n",
              "    <tr>\n",
              "      <th id=\"T_45122_level0_row1\" class=\"row_heading level0 row1\" >SHO</th>\n",
              "      <td id=\"T_45122_row1_col0\" class=\"data row1 col0\" >0.370084</td>\n",
              "      <td id=\"T_45122_row1_col1\" class=\"data row1 col1\" >1.000000</td>\n",
              "      <td id=\"T_45122_row1_col2\" class=\"data row1 col2\" >0.711984</td>\n",
              "      <td id=\"T_45122_row1_col3\" class=\"data row1 col3\" >0.798552</td>\n",
              "    </tr>\n",
              "    <tr>\n",
              "      <th id=\"T_45122_level0_row2\" class=\"row_heading level0 row2\" >PAS</th>\n",
              "      <td id=\"T_45122_row2_col0\" class=\"data row2 col0\" >0.325883</td>\n",
              "      <td id=\"T_45122_row2_col1\" class=\"data row2 col1\" >0.711984</td>\n",
              "      <td id=\"T_45122_row2_col2\" class=\"data row2 col2\" >1.000000</td>\n",
              "      <td id=\"T_45122_row2_col3\" class=\"data row2 col3\" >0.863575</td>\n",
              "    </tr>\n",
              "    <tr>\n",
              "      <th id=\"T_45122_level0_row3\" class=\"row_heading level0 row3\" >DRI</th>\n",
              "      <td id=\"T_45122_row3_col0\" class=\"data row3 col0\" >0.548641</td>\n",
              "      <td id=\"T_45122_row3_col1\" class=\"data row3 col1\" >0.798552</td>\n",
              "      <td id=\"T_45122_row3_col2\" class=\"data row3 col2\" >0.863575</td>\n",
              "      <td id=\"T_45122_row3_col3\" class=\"data row3 col3\" >1.000000</td>\n",
              "    </tr>\n",
              "  </tbody>\n",
              "</table>\n"
            ]
          },
          "metadata": {},
          "execution_count": 296
        }
      ]
    },
    {
      "cell_type": "code",
      "source": [
        "#фактор инфляции дисперсии"
      ],
      "metadata": {
        "id": "OablqvOAhdaQ"
      },
      "execution_count": null,
      "outputs": []
    },
    {
      "cell_type": "code",
      "source": [
        "from patsy import dmatrices\n",
        "from statsmodels.stats.outliers_influence import variance_inflation_factor"
      ],
      "metadata": {
        "id": "lnMnsfBbhfN2"
      },
      "execution_count": null,
      "outputs": []
    },
    {
      "cell_type": "code",
      "source": [
        "y, X = dmatrices('Ratings ~ PAC+SHO+PAS+DRI+DEF+PHY', data=fifa, return_type='dataframe')\n",
        "vif = pd.DataFrame()\n",
        "vif['VIF'] = [variance_inflation_factor(X.values, i) for i in range(X.shape[1])]\n",
        "vif['variable'] = X.columns\n",
        "vif"
      ],
      "metadata": {
        "colab": {
          "base_uri": "https://localhost:8080/"
        },
        "id": "AO61d8MWhg-R",
        "outputId": "cad8c62a-8180-45cc-c25c-7b24545a2e76"
      },
      "execution_count": null,
      "outputs": [
        {
          "output_type": "execute_result",
          "data": {
            "text/plain": [
              "         VIF   variable\n",
              "0  98.243941  Intercept\n",
              "1   1.674638        PAC\n",
              "2   5.290872        SHO\n",
              "3   6.432600        PAS\n",
              "4   7.639174        DRI\n",
              "5   3.163944        DEF\n",
              "6   1.671228        PHY"
            ],
            "text/html": [
              "\n",
              "  <div id=\"df-d538e373-9d8c-470e-89b1-5821f6b9f8c6\">\n",
              "    <div class=\"colab-df-container\">\n",
              "      <div>\n",
              "<style scoped>\n",
              "    .dataframe tbody tr th:only-of-type {\n",
              "        vertical-align: middle;\n",
              "    }\n",
              "\n",
              "    .dataframe tbody tr th {\n",
              "        vertical-align: top;\n",
              "    }\n",
              "\n",
              "    .dataframe thead th {\n",
              "        text-align: right;\n",
              "    }\n",
              "</style>\n",
              "<table border=\"1\" class=\"dataframe\">\n",
              "  <thead>\n",
              "    <tr style=\"text-align: right;\">\n",
              "      <th></th>\n",
              "      <th>VIF</th>\n",
              "      <th>variable</th>\n",
              "    </tr>\n",
              "  </thead>\n",
              "  <tbody>\n",
              "    <tr>\n",
              "      <th>0</th>\n",
              "      <td>98.243941</td>\n",
              "      <td>Intercept</td>\n",
              "    </tr>\n",
              "    <tr>\n",
              "      <th>1</th>\n",
              "      <td>1.674638</td>\n",
              "      <td>PAC</td>\n",
              "    </tr>\n",
              "    <tr>\n",
              "      <th>2</th>\n",
              "      <td>5.290872</td>\n",
              "      <td>SHO</td>\n",
              "    </tr>\n",
              "    <tr>\n",
              "      <th>3</th>\n",
              "      <td>6.432600</td>\n",
              "      <td>PAS</td>\n",
              "    </tr>\n",
              "    <tr>\n",
              "      <th>4</th>\n",
              "      <td>7.639174</td>\n",
              "      <td>DRI</td>\n",
              "    </tr>\n",
              "    <tr>\n",
              "      <th>5</th>\n",
              "      <td>3.163944</td>\n",
              "      <td>DEF</td>\n",
              "    </tr>\n",
              "    <tr>\n",
              "      <th>6</th>\n",
              "      <td>1.671228</td>\n",
              "      <td>PHY</td>\n",
              "    </tr>\n",
              "  </tbody>\n",
              "</table>\n",
              "</div>\n",
              "      <button class=\"colab-df-convert\" onclick=\"convertToInteractive('df-d538e373-9d8c-470e-89b1-5821f6b9f8c6')\"\n",
              "              title=\"Convert this dataframe to an interactive table.\"\n",
              "              style=\"display:none;\">\n",
              "        \n",
              "  <svg xmlns=\"http://www.w3.org/2000/svg\" height=\"24px\"viewBox=\"0 0 24 24\"\n",
              "       width=\"24px\">\n",
              "    <path d=\"M0 0h24v24H0V0z\" fill=\"none\"/>\n",
              "    <path d=\"M18.56 5.44l.94 2.06.94-2.06 2.06-.94-2.06-.94-.94-2.06-.94 2.06-2.06.94zm-11 1L8.5 8.5l.94-2.06 2.06-.94-2.06-.94L8.5 2.5l-.94 2.06-2.06.94zm10 10l.94 2.06.94-2.06 2.06-.94-2.06-.94-.94-2.06-.94 2.06-2.06.94z\"/><path d=\"M17.41 7.96l-1.37-1.37c-.4-.4-.92-.59-1.43-.59-.52 0-1.04.2-1.43.59L10.3 9.45l-7.72 7.72c-.78.78-.78 2.05 0 2.83L4 21.41c.39.39.9.59 1.41.59.51 0 1.02-.2 1.41-.59l7.78-7.78 2.81-2.81c.8-.78.8-2.07 0-2.86zM5.41 20L4 18.59l7.72-7.72 1.47 1.35L5.41 20z\"/>\n",
              "  </svg>\n",
              "      </button>\n",
              "      \n",
              "  <style>\n",
              "    .colab-df-container {\n",
              "      display:flex;\n",
              "      flex-wrap:wrap;\n",
              "      gap: 12px;\n",
              "    }\n",
              "\n",
              "    .colab-df-convert {\n",
              "      background-color: #E8F0FE;\n",
              "      border: none;\n",
              "      border-radius: 50%;\n",
              "      cursor: pointer;\n",
              "      display: none;\n",
              "      fill: #1967D2;\n",
              "      height: 32px;\n",
              "      padding: 0 0 0 0;\n",
              "      width: 32px;\n",
              "    }\n",
              "\n",
              "    .colab-df-convert:hover {\n",
              "      background-color: #E2EBFA;\n",
              "      box-shadow: 0px 1px 2px rgba(60, 64, 67, 0.3), 0px 1px 3px 1px rgba(60, 64, 67, 0.15);\n",
              "      fill: #174EA6;\n",
              "    }\n",
              "\n",
              "    [theme=dark] .colab-df-convert {\n",
              "      background-color: #3B4455;\n",
              "      fill: #D2E3FC;\n",
              "    }\n",
              "\n",
              "    [theme=dark] .colab-df-convert:hover {\n",
              "      background-color: #434B5C;\n",
              "      box-shadow: 0px 1px 3px 1px rgba(0, 0, 0, 0.15);\n",
              "      filter: drop-shadow(0px 1px 2px rgba(0, 0, 0, 0.3));\n",
              "      fill: #FFFFFF;\n",
              "    }\n",
              "  </style>\n",
              "\n",
              "      <script>\n",
              "        const buttonEl =\n",
              "          document.querySelector('#df-d538e373-9d8c-470e-89b1-5821f6b9f8c6 button.colab-df-convert');\n",
              "        buttonEl.style.display =\n",
              "          google.colab.kernel.accessAllowed ? 'block' : 'none';\n",
              "\n",
              "        async function convertToInteractive(key) {\n",
              "          const element = document.querySelector('#df-d538e373-9d8c-470e-89b1-5821f6b9f8c6');\n",
              "          const dataTable =\n",
              "            await google.colab.kernel.invokeFunction('convertToInteractive',\n",
              "                                                     [key], {});\n",
              "          if (!dataTable) return;\n",
              "\n",
              "          const docLinkHtml = 'Like what you see? Visit the ' +\n",
              "            '<a target=\"_blank\" href=https://colab.research.google.com/notebooks/data_table.ipynb>data table notebook</a>'\n",
              "            + ' to learn more about interactive tables.';\n",
              "          element.innerHTML = '';\n",
              "          dataTable['output_type'] = 'display_data';\n",
              "          await google.colab.output.renderOutput(dataTable, element);\n",
              "          const docLink = document.createElement('div');\n",
              "          docLink.innerHTML = docLinkHtml;\n",
              "          element.appendChild(docLink);\n",
              "        }\n",
              "      </script>\n",
              "    </div>\n",
              "  </div>\n",
              "  "
            ]
          },
          "metadata": {},
          "execution_count": 299
        }
      ]
    }
  ]
}