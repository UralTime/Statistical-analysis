{
  "nbformat": 4,
  "nbformat_minor": 0,
  "metadata": {
    "colab": {
      "provenance": []
    },
    "kernelspec": {
      "name": "python3",
      "display_name": "Python 3"
    },
    "language_info": {
      "name": "python"
    }
  },
  "cells": [
    {
      "cell_type": "markdown",
      "source": [
        "# **Распознавание речи**\n",
        "\n",
        "В папке MNIST_9-25 находятся подпапки num0,num1,...,num9 c звуковыми файлами цифр 0,1,...,9. Файлы записывались сотрудниками лаборатории статистического анализа ВМК МГУ, знакомыми американцами и членам их семей, правда среди них были также китайцы и русские, так что некоторый акцент в произношении неизбежен. Из них было смоделировано случайным образом варианты из 300 телефонных номеров по 10 цифр каждый, цифры которого произносятся разными случайными спикерами."
      ],
      "metadata": {
        "id": "RgaUVhGgkDXz"
      }
    },
    {
      "cell_type": "code",
      "execution_count": 1,
      "metadata": {
        "id": "bhRq-USyX886"
      },
      "outputs": [],
      "source": [
        "!unzip -qq /content/MNIST_9-25-20231118T083117Z-001.zip"
      ]
    },
    {
      "cell_type": "code",
      "source": [
        "var = 4"
      ],
      "metadata": {
        "id": "gRJQFwL9w6x7"
      },
      "execution_count": 6,
      "outputs": []
    },
    {
      "cell_type": "code",
      "source": [
        "!unzip -qq /content/4-20231118T184415Z-001.zip"
      ],
      "metadata": {
        "id": "mqIDfahZxHvk"
      },
      "execution_count": 2,
      "outputs": []
    },
    {
      "cell_type": "code",
      "source": [
        "!pip install pydub\n",
        "!pip install python_speech_features"
      ],
      "metadata": {
        "colab": {
          "base_uri": "https://localhost:8080/"
        },
        "id": "n035Qwr4pUNJ",
        "outputId": "5b7640fb-9731-40ad-dc11-a6469c269ad8"
      },
      "execution_count": 3,
      "outputs": [
        {
          "output_type": "stream",
          "name": "stdout",
          "text": [
            "Collecting pydub\n",
            "  Downloading pydub-0.25.1-py2.py3-none-any.whl (32 kB)\n",
            "Installing collected packages: pydub\n",
            "Successfully installed pydub-0.25.1\n",
            "Collecting python_speech_features\n",
            "  Downloading python_speech_features-0.6.tar.gz (5.6 kB)\n",
            "  Preparing metadata (setup.py) ... \u001b[?25l\u001b[?25hdone\n",
            "Building wheels for collected packages: python_speech_features\n",
            "  Building wheel for python_speech_features (setup.py) ... \u001b[?25l\u001b[?25hdone\n",
            "  Created wheel for python_speech_features: filename=python_speech_features-0.6-py3-none-any.whl size=5872 sha256=578babf26ed0e50e9c7ed64b63c2d317faf58cc39e9edf5eca5cbd8f33c98089\n",
            "  Stored in directory: /root/.cache/pip/wheels/5a/9e/68/30bad9462b3926c29e315df16b562216d12bdc215f4d240294\n",
            "Successfully built python_speech_features\n",
            "Installing collected packages: python_speech_features\n",
            "Successfully installed python_speech_features-0.6\n"
          ]
        }
      ]
    },
    {
      "cell_type": "markdown",
      "source": [
        "**I have tried to run 'pip install hmmlearn' directly in the notebook cell. After that I restarted the kernel and it worked for me.**"
      ],
      "metadata": {
        "id": "cXdQ2FweoDPs"
      }
    },
    {
      "cell_type": "code",
      "source": [
        "!pip install hmmlearn"
      ],
      "metadata": {
        "colab": {
          "base_uri": "https://localhost:8080/"
        },
        "id": "QKMtqh8Dmkc2",
        "outputId": "e65cdc78-cdd9-423b-a669-a1c390b81045"
      },
      "execution_count": 4,
      "outputs": [
        {
          "output_type": "stream",
          "name": "stdout",
          "text": [
            "Collecting hmmlearn\n",
            "  Downloading hmmlearn-0.3.0-cp310-cp310-manylinux_2_17_x86_64.manylinux2014_x86_64.whl (160 kB)\n",
            "\u001b[?25l     \u001b[90m━━━━━━━━━━━━━━━━━━━━━━━━━━━━━━━━━━━━━━━━\u001b[0m \u001b[32m0.0/160.4 kB\u001b[0m \u001b[31m?\u001b[0m eta \u001b[36m-:--:--\u001b[0m\r\u001b[2K     \u001b[91m━━━━━━━━━━━━━━━━━━━━━━━━━━━━\u001b[0m\u001b[90m╺\u001b[0m\u001b[90m━━━━━━━━━━━\u001b[0m \u001b[32m112.6/160.4 kB\u001b[0m \u001b[31m3.2 MB/s\u001b[0m eta \u001b[36m0:00:01\u001b[0m\r\u001b[2K     \u001b[90m━━━━━━━━━━━━━━━━━━━━━━━━━━━━━━━━━━━━━━━━\u001b[0m \u001b[32m160.4/160.4 kB\u001b[0m \u001b[31m3.3 MB/s\u001b[0m eta \u001b[36m0:00:00\u001b[0m\n",
            "\u001b[?25hRequirement already satisfied: numpy>=1.10 in /usr/local/lib/python3.10/dist-packages (from hmmlearn) (1.23.5)\n",
            "Requirement already satisfied: scikit-learn!=0.22.0,>=0.16 in /usr/local/lib/python3.10/dist-packages (from hmmlearn) (1.2.2)\n",
            "Requirement already satisfied: scipy>=0.19 in /usr/local/lib/python3.10/dist-packages (from hmmlearn) (1.11.3)\n",
            "Requirement already satisfied: joblib>=1.1.1 in /usr/local/lib/python3.10/dist-packages (from scikit-learn!=0.22.0,>=0.16->hmmlearn) (1.3.2)\n",
            "Requirement already satisfied: threadpoolctl>=2.0.0 in /usr/local/lib/python3.10/dist-packages (from scikit-learn!=0.22.0,>=0.16->hmmlearn) (3.2.0)\n",
            "Installing collected packages: hmmlearn\n",
            "Successfully installed hmmlearn-0.3.0\n"
          ]
        }
      ]
    },
    {
      "cell_type": "code",
      "source": [
        "import numpy as np\n",
        "import pandas as pd\n",
        "import matplotlib.pyplot as plt\n",
        "\n",
        "import os\n",
        "import warnings\n",
        "\n",
        "import hmmlearn\n",
        "from hmmlearn import hmm\n",
        "\n",
        "from scipy.io import wavfile\n",
        "\n",
        "from pydub import AudioSegment\n",
        "from pydub.silence import split_on_silence\n",
        "\n",
        "import librosa\n",
        "import librosa.display\n",
        "from python_speech_features import mfcc"
      ],
      "metadata": {
        "id": "5CXJqyYfo2vv"
      },
      "execution_count": 5,
      "outputs": []
    },
    {
      "cell_type": "markdown",
      "source": [
        "Извлекаем признаки из кепстрального анализа\n",
        "\n",
        "features_mfcc = mfcc(signal, sampling_freq, numcep=num_cep_coeff)\n",
        "\n",
        "Параметры по умолчанию которой winlen=0.025, winstep=0.01, nfft=512 Это соответственно ширина окна в секундах, размер сдвига окна в секундах и количество частот для построения спектра мощности для текущего окна. Так как использется алгоритм быстрого преобразования Фурье, последнее число должно быть степенью двойки.\n",
        "\n",
        "**Далее features_mmfc добавляются в массив X**\n",
        "\n",
        "**После обхода всех файлов с текущей цифрой создается класс ModelHMM**\n",
        "\n",
        "**model = ModelHMM(num_components=num_states),**\n",
        "\n",
        "**где num_states - чмсло состояний скрытой цепи Маркова,**\n",
        "\n",
        "**и происходит оценка параметров соответствующей скрытой цепи Маркова для всех полученых features из массива Х, также вычисляется максимальное достигнутое значение функции правдоподобия**"
      ],
      "metadata": {
        "id": "1NBG5upom_mm"
      }
    },
    {
      "cell_type": "code",
      "source": [
        "class ModelHMM(object):\n",
        "    def __init__(self, num_components=8, num_iter=1000):\n",
        "        self.n_components = num_components\n",
        "        self.n_iter = num_iter\n",
        "    # Define the covariance type and the type of HMM:\n",
        "        self.cov_type = 'diag'\n",
        "        self.model_name = 'GaussianHMM'\n",
        "    # Initialize the variable in which we will store the models for each word:\n",
        "        self.models = []\n",
        "    # Define the model using the specified parameters:\n",
        "        self.model = hmm.GaussianHMM(n_components=self.n_components,\n",
        "                covariance_type=self.cov_type,n_iter=self.n_iter)\n",
        "\n",
        "    # Define a method to train the model\n",
        "    # 'training_data' is a 2D numpy array where each row has length of number of mfcc coefficients\n",
        "    def train(self, training_data):\n",
        "        np.seterr(all='ignore')\n",
        "        cur_model = self.model.fit(training_data)\n",
        "        self.models.append(cur_model)\n",
        "\n",
        "    # Define a method to compute log likelihood score for input features\n",
        "    def compute_score(self, input_data):\n",
        "        return self.model.score(input_data)  # model.score returns log likelihood of sample input_data"
      ],
      "metadata": {
        "id": "ZKl4mI-tmbtM"
      },
      "execution_count": 8,
      "outputs": []
    },
    {
      "cell_type": "code",
      "source": [
        "def detect_leading_silence(sound, silence_threshold=-50.0, chunk_size=10):\n",
        "    '''\n",
        "    sound is a pydub.AudioSegment\n",
        "    silence_threshold in dB\n",
        "    chunk_size in ms\n",
        "\n",
        "    iterate over chunks until you find the first one with sound\n",
        "    '''\n",
        "    trim_ms = 0 # ms\n",
        "\n",
        "    assert chunk_size > 0 # to avoid infinite loop\n",
        "    while sound[trim_ms:trim_ms+chunk_size].dBFS < silence_threshold and trim_ms < len(sound):\n",
        "        trim_ms += chunk_size\n",
        "\n",
        "    return trim_ms"
      ],
      "metadata": {
        "id": "vR87Nd4tm28A"
      },
      "execution_count": 9,
      "outputs": []
    },
    {
      "cell_type": "code",
      "source": [
        "def build_one_model(input_folder, num_states, num_cep_coeff):\n",
        "    # input_folder: path to the folder containing training wav files with the word\n",
        "    # num_states: number of hidden states in HMM\n",
        "    # num_cep_coeff: number of MFCC features extracted from each time window\n",
        "\n",
        "    X = np.array([])  # features\n",
        "    training_files = [x for x in os.listdir(input_folder) if x.endswith('.wav')]\n",
        "    for filename in training_files:\n",
        "        # Extract the current filepath and read the file\n",
        "        filepath = os.path.join(input_folder, filename)\n",
        "        sampling_freq, signal = wavfile.read(filepath)\n",
        "        sound = AudioSegment.from_file(filepath, format=\"wav\")\n",
        "        duration = len(sound)\n",
        "\n",
        "        start_trim = detect_leading_silence(sound)\n",
        "        end_trim = detect_leading_silence(sound.reverse())\n",
        "        duration = len(sound)\n",
        "        trimmed_sound = sound[start_trim:duration - end_trim]\n",
        "        trimmed_sound.export(\"tmp.wav\", format=\"wav\")\n",
        "\n",
        "        # Extract features\n",
        "        # Default values:\n",
        "        # winlen=0.025, winstep=0.01, nfft=512,\n",
        "        with warnings.catch_warnings():\n",
        "            warnings.simplefilter('ignore')\n",
        "            features_mfcc = mfcc(signal, sampling_freq, numcep=num_cep_coeff)\n",
        "\n",
        "        # Append features to the variable X\n",
        "        if len(X) == 0:\n",
        "            X = features_mfcc\n",
        "        else:\n",
        "            X = np.append(X, features_mfcc, axis=0)\n",
        "\n",
        "    # Initiate HMM model object\n",
        "    with warnings.catch_warnings():\n",
        "        warnings.filterwarnings('ignore', category=DeprecationWarning)\n",
        "        model = ModelHMM(num_components=num_states)\n",
        "\n",
        "    # Train HMM model, calculate likelihood of the sample by the trained model\n",
        "    with warnings.catch_warnings():\n",
        "        warnings.filterwarnings('ignore', category=DeprecationWarning)\n",
        "        model.train(X)\n",
        "        model_score = model.compute_score(X)\n",
        "\n",
        "    return model, model_score, num_cep_coeff"
      ],
      "metadata": {
        "id": "5jkmWGsTmXCB"
      },
      "execution_count": 48,
      "outputs": []
    },
    {
      "cell_type": "markdown",
      "source": [
        "Параметр numcep - это число кепстральных коэффициентов, которое вычисляется для каждого положения окна внутри сигнала. Вспомнить, что делает эта функция поможет шайни https://shiny.ilykei.com/ANDoynikov/cepstrum/ , которую Вы уже видели в весеннем семестре."
      ],
      "metadata": {
        "id": "nC5Mv6fqzbpQ"
      }
    },
    {
      "cell_type": "code",
      "source": [
        "def build_models(input_folder):\n",
        "    # input_folder contains subfolders with samples of words in wav files\n",
        "    # Initialize the variable to store all the models\n",
        "\n",
        "    speech_models = []\n",
        "\n",
        "    # Parse the input directory\n",
        "    for dirname in os.listdir(input_folder):\n",
        "\n",
        "        # Get name of subfolder\n",
        "        subfolder = os.path.join(input_folder, dirname)\n",
        "\n",
        "        if not os.path.isdir(subfolder) or subfolder == \"./MNIST_9-25/.ipynb_checkpoints\":\n",
        "          continue\n",
        "\n",
        "        # Extract label\n",
        "        label = subfolder[subfolder.rfind('/') + 1:]\n",
        "\n",
        "        # Fit model for label\n",
        "        best_score = -float('inf')\n",
        "        for num_components in range (10, 30, 5):\n",
        "          for num_cepstr in range (10, 30, 5):\n",
        "            model = build_one_model(subfolder, num_states=num_components, num_cep_coeff=num_cepstr)\n",
        "            if model[1] > best_score:\n",
        "              best_model = model\n",
        "              best_score = model[1]\n",
        "\n",
        "        # Add the model to the list\n",
        "        speech_models.append((best_model, label))\n",
        "\n",
        "        # Reset model variable\n",
        "        model = None\n",
        "\n",
        "    return speech_models"
      ],
      "metadata": {
        "id": "6LGPc-tqm0tT"
      },
      "execution_count": 54,
      "outputs": []
    },
    {
      "cell_type": "markdown",
      "source": [
        "Запускаем обучение и построение модели с перебором гиперпараметров по сетке"
      ],
      "metadata": {
        "id": "_gATFsCJBQqD"
      }
    },
    {
      "cell_type": "code",
      "source": [
        "models = build_models(\"./MNIST_9-25\")"
      ],
      "metadata": {
        "id": "1y_aXCN6AJSH"
      },
      "execution_count": 55,
      "outputs": []
    },
    {
      "cell_type": "markdown",
      "source": [
        "### Распознавание цифр телефона по предобученной модели"
      ],
      "metadata": {
        "id": "5HIa1rHKnQMe"
      }
    },
    {
      "cell_type": "markdown",
      "source": [
        "Тепрь нужно разделить каждый сигнал на 10 фрагментов (по условию телефонный номер состоит из 10 цифр)"
      ],
      "metadata": {
        "id": "UwGXXXgP0IV4"
      }
    },
    {
      "cell_type": "code",
      "source": [
        "def ten_audio_chunks(cur_wavfile):\n",
        "  sound_file = AudioSegment.from_wav(cur_wavfile)\n",
        "  for silence_len in range (10, 150, 10):\n",
        "    for thresh in range (-50, 0, 5):\n",
        "      audio_chunks = split_on_silence(sound_file, min_silence_len=silence_len, silence_thresh=thresh)\n",
        "      if (10 == len(audio_chunks)):\n",
        "        return audio_chunks\n",
        "  print('ERROR IN PARTITION TO 10 AUDIO_CHUNKS ' + cur_wavfile)"
      ],
      "metadata": {
        "id": "b7IE9050na3k"
      },
      "execution_count": 26,
      "outputs": []
    },
    {
      "cell_type": "markdown",
      "source": [
        "silence_len - длина паузы в милисекундах между цифрами в записи телефона\n",
        "\n",
        "thresh - уровень шума между цифрами в децибелах.\n",
        "\n",
        "**Пороги для них подбирались исходя из данных. Если не получилось разделить на 10 фрагментов, я смотрел отдельно на неудавшийся для разбиения файл (показано ниже) и менял границы цикла.**"
      ],
      "metadata": {
        "id": "cFf_KcxPneEJ"
      }
    },
    {
      "cell_type": "code",
      "source": [
        "chunks = []\n",
        "for i in range(300):\n",
        "  cur_wavfile = f'./{var}/{i}.wav'\n",
        "  chunks.append(ten_audio_chunks(cur_wavfile))"
      ],
      "metadata": {
        "id": "P2GmelFxnreS"
      },
      "execution_count": 27,
      "outputs": []
    },
    {
      "cell_type": "code",
      "source": [
        "cur_wavfile = f'./{var}/117.wav'\n",
        "x, sr = librosa.load(cur_wavfile)\n",
        "\n",
        "# Plot the sample.\n",
        "plt.figure(figsize=(12, 5))\n",
        "librosa.display.waveshow(x, sr=sr)\n",
        "plt.show()\n",
        "print(\"Signal rate= \",sr)"
      ],
      "metadata": {
        "id": "_45ebI4MnCp4",
        "colab": {
          "base_uri": "https://localhost:8080/",
          "height": 482
        },
        "outputId": "6ae88a6b-bbf1-4516-a559-9e6d310781e9"
      },
      "execution_count": 24,
      "outputs": [
        {
          "output_type": "display_data",
          "data": {
            "text/plain": [
              "<Figure size 1200x500 with 1 Axes>"
            ],
            "image/png": "[encoded data removed]"
          },
          "metadata": {}
        },
        {
          "output_type": "stream",
          "name": "stdout",
          "text": [
            "Signal rate=  22050\n"
          ]
        }
      ]
    },
    {
      "cell_type": "markdown",
      "source": [
        "Вот здесь, например, какой-то странный человек говорил цифры очень быстро"
      ],
      "metadata": {
        "id": "S47nJu2_2gfe"
      }
    },
    {
      "cell_type": "markdown",
      "source": [
        "Далее функция word_score, которая вычисляет логарифм правдоподобия:"
      ],
      "metadata": {
        "id": "At2WdsoQ0phH"
      }
    },
    {
      "cell_type": "code",
      "source": [
        "def score_one_word(trained_model, test_file_path):\n",
        "    # trained_model: ModelHMM object with trained model\n",
        "    # test_file_path: path to wav file\n",
        "\n",
        "    sampling_freq, signal = wavfile.read(test_file_path)\n",
        "    num_cep_coeff = trained_model[2]\n",
        "\n",
        "    # Extract features\n",
        "    # Default values:\n",
        "    # winlen=0.025, winstep=0.01, nfilt=26, nfft=512,\n",
        "    with warnings.catch_warnings():\n",
        "        warnings.simplefilter('ignore')\n",
        "        features_mfcc = mfcc(signal, sampling_freq, numcep=num_cep_coeff)\n",
        "\n",
        "        # Calculate log likelihood\n",
        "        word_score = trained_model[0].compute_score(features_mfcc)\n",
        "    return word_score"
      ],
      "metadata": {
        "id": "JYmCuoAenebt"
      },
      "execution_count": 56,
      "outputs": []
    },
    {
      "cell_type": "markdown",
      "source": [
        "Эта функция в свою очередь вызывается в цикле по моделям всех цифр от 0 до 9. Выбирается та цифра, где логарифм функции правдоподобия максимальный. Это переменная predicted_label"
      ],
      "metadata": {
        "id": "DXEp7SSwnhQa"
      }
    },
    {
      "cell_type": "code",
      "source": [
        "def predict_number(chunks, speech_models):\n",
        "  ans = ''\n",
        "  for chunk in chunks:\n",
        "    tmp_filename = 'tmp.wav'\n",
        "    chunk.export(tmp_filename, format=\"wav\")\n",
        "    max_score = -float('inf')\n",
        "\n",
        "    # Run the current feature vector through all the HMM\n",
        "    #  models and pick the one with the highest score\n",
        "    for item in speech_models:\n",
        "      model, label = item\n",
        "      score = score_one_word(model, tmp_filename)\n",
        "      if score > max_score:\n",
        "        predicted_label = label #label which has highest score\n",
        "        max_score = score\n",
        "\n",
        "    ans += predicted_label[3] #[3] for tmpX -> X\n",
        "  return ans"
      ],
      "metadata": {
        "id": "Uavs1GFPniR-"
      },
      "execution_count": 57,
      "outputs": []
    },
    {
      "cell_type": "markdown",
      "source": [
        "В результате мы получим полностью номер телефона. Например, '0123439516'.\n",
        "\n",
        "Мы готовы определить все произнесенные 300 номеров телефона."
      ],
      "metadata": {
        "id": "NWGmrCuMnnCa"
      }
    },
    {
      "cell_type": "code",
      "source": [
        "predictions = []\n",
        "for i in range(300):\n",
        "  predictions.append(predict_number(chunks[i], models))"
      ],
      "metadata": {
        "id": "FqzKV40SE5_o"
      },
      "execution_count": 58,
      "outputs": []
    },
    {
      "cell_type": "markdown",
      "source": [
        "Из полученных номеров телефонов создается массив, который сохраняется в файл результатов в формате. Имя столбца не указывается.\n",
        "\n",
        "0,3459986127\n",
        "\n",
        "1,2335530968\n",
        "\n",
        "2,9540596584\n",
        "\n",
        "3,2871961713\n",
        "\n",
        "......\n",
        "\n",
        "298,9341169408\n",
        "\n",
        "299,7697136246"
      ],
      "metadata": {
        "id": "LPzE_i-83lap"
      }
    },
    {
      "cell_type": "code",
      "source": [
        "df = pd.DataFrame(predictions)\n",
        "df.to_csv('submission.csv', header=False)"
      ],
      "metadata": {
        "id": "h6adVOrJ8LEB"
      },
      "execution_count": 59,
      "outputs": []
    }
  ]
}